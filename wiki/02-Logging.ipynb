{
 "cells": [
  {
   "cell_type": "markdown",
   "metadata": {},
   "source": [
    "# Logging:\n",
    "1. Lets create our logger:"
   ]
  },
  {
   "cell_type": "code",
   "execution_count": 1,
   "metadata": {},
   "outputs": [],
   "source": [
    "// First lets install nope using npm\n",
    "const nope = require(\"../dist-nodejs/index.nodejs\");\n",
    "\n",
    "// Create our Observable:\n",
    "const logger = nope.getNopeLogger(\"demo\");"
   ]
  },
  {
   "cell_type": "markdown",
   "metadata": {},
   "source": [
    "Now, that our logger has been created, we are able to log our first messages:"
   ]
  },
  {
   "cell_type": "code",
   "execution_count": 2,
   "metadata": {},
   "outputs": [
    {
     "name": "stdout",
     "output_type": "stream",
     "text": [
      "\u001b[34m 2023-03-28T15:50:49.827Z \u001b[0m - \u001b[32m DEBUG \u001b[0m - \u001b[47m\u001b[30m demo \u001b[0m \u001b[32m : hello from 'debug' level \u001b[0m\n",
      "\u001b[34m 2023-03-28T15:50:49.827Z \u001b[0m - \u001b[37m INFO  \u001b[0m - \u001b[47m\u001b[30m demo \u001b[0m \u001b[37m : hello from 'info' level \u001b[0m\n"
     ]
    },
    {
     "name": "stderr",
     "output_type": "stream",
     "text": [
      "\u001b[34m 2023-03-28T15:50:49.827Z \u001b[0m - \u001b[33m WARN  \u001b[0m - \u001b[47m\u001b[30m demo \u001b[0m \u001b[33m : hello from 'warn' level \u001b[0m\n",
      "\u001b[34m 2023-03-28T15:50:49.827Z \u001b[0m - \u001b[31m ERROR \u001b[0m - \u001b[47m\u001b[30m demo \u001b[0m \u001b[31m : hello from 'error' level \u001b[0m\n"
     ]
    }
   ],
   "source": [
    "logger.trace(\"hello from 'trace' level\")\n",
    "logger.debug(\"hello from 'debug' level\")\n",
    "logger.info(\"hello from 'info' level\")\n",
    "logger.warn(\"hello from 'warn' level\")\n",
    "logger.error(\"hello from 'error' level\")"
   ]
  },
  {
   "cell_type": "markdown",
   "metadata": {},
   "source": [
    "To change the logging level use the property level:"
   ]
  },
  {
   "cell_type": "code",
   "execution_count": 8,
   "metadata": {},
   "outputs": [],
   "source": [
    "logger.setLevel(nope.WARN);"
   ]
  },
  {
   "cell_type": "code",
   "execution_count": 9,
   "metadata": {},
   "outputs": [
    {
     "name": "stderr",
     "output_type": "stream",
     "text": [
      "\u001b[34m 2023-03-28T15:52:36.027Z \u001b[0m - \u001b[33m WARN  \u001b[0m - \u001b[47m\u001b[30m demo \u001b[0m \u001b[33m : hello from 'warn' level \u001b[0m\n",
      "\u001b[34m 2023-03-28T15:52:36.027Z \u001b[0m - \u001b[31m ERROR \u001b[0m - \u001b[47m\u001b[30m demo \u001b[0m \u001b[31m : hello from 'error' level \u001b[0m\n"
     ]
    }
   ],
   "source": [
    "logger.trace(\"hello from 'trace' level\")\n",
    "logger.debug(\"hello from 'debug' level\")\n",
    "logger.info(\"hello from 'info' level\")\n",
    "logger.warn(\"hello from 'warn' level\")\n",
    "logger.error(\"hello from 'error' level\")"
   ]
  },
  {
   "cell_type": "markdown",
   "metadata": {},
   "source": [
    "As you can see you are able to change the out put."
   ]
  },
  {
   "cell_type": "code",
   "execution_count": null,
   "metadata": {},
   "outputs": [],
   "source": []
  }
 ],
 "metadata": {
  "kernelspec": {
   "display_name": "JavaScript (Node.js)",
   "language": "javascript",
   "name": "javascript"
  },
  "language_info": {
   "file_extension": ".js",
   "mimetype": "application/javascript",
   "name": "javascript",
   "version": "16.19.0"
  },
  "vscode": {
   "interpreter": {
    "hash": "369f2c481f4da34e4445cda3fffd2e751bd1c4d706f27375911949ba6bb62e1c"
   }
  }
 },
 "nbformat": 4,
 "nbformat_minor": 2
}
