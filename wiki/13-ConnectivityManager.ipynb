{
 "cells": [
  {
   "cell_type": "markdown",
   "metadata": {},
   "source": [
    "# NoPE - Connectivity Manager\n",
    "\n",
    "The NoPE-Dispatcher uses one `ConnectivityManager`. The manager observes the connection and remotly connected dispatchers (and their `ConnectivityManager`). The Manager detects newly connected dispatchers and disconnected dispatchers. Additionally, it sends a StatusMessage (in the form of `INopeStatusInfo`). This status message is interpreted as heartbeat. The `ConnectivityManager` checks those heartbeats with a defined interval. If a specific amount of time is ellapsed, the remote dispatcher is marked as `slow` -> `warning` -> `dead`. After an additional delay in the state `dead` the dispatcher is altough removed.\n",
    "\n",
    "## Master\n",
    "\n",
    "Defaultly a `ConnectivityManager` is elected as `master`. The master is defined as the `ConnectivityManager` with the highest `upTime`. \n",
    "\n",
    "> Alternativly a master can be forced.\n",
    "\n",
    "## Synchronizing time\n",
    "\n",
    "Because we asume, that **NoPE** is running on different computing nodes, we have to be able to synchronize the time between those elements. Therefore the `ConnectivityManager` is able to sync the time (by providing a `timestamp` and an additional `delay` that was needed to get to the call (for instance `ping / 2`))\n"
   ]
  },
  {
   "cell_type": "code",
   "execution_count": 1,
   "metadata": {
    "vscode": {
     "languageId": "javascript"
    }
   },
   "outputs": [],
   "source": [
    "// First lets install nope using npm\n",
    "const nope = require(\"../dist-nodejs/index.nodejs\")\n",
    "\n",
    "// Create a communicator:\n",
    "// We will use the event layer (which just runs internally)\n",
    "const communicator = nope.getLayer(\"event\");\n",
    "\n",
    "// Lets create our dispatcher\n",
    "\n",
    "// 1. Dispatcher simulates our local system\n",
    "const localDispatcher = nope.dispatcher.getDispatcher({\n",
    "  communicator,\n",
    "  id: \"local\"\n",
    "}, {\n",
    "  singleton: false,\n",
    "  useBaseServices: false\n",
    "});"
   ]
  },
  {
   "cell_type": "markdown",
   "metadata": {},
   "source": [
    "> For Jupyter we need an extra async wrapper to wait for initalizing the dispatcher:\n",
    "\n",
    "see here for the details in Jupyter: https://n-riesco.github.io/ijavascript/doc/async.ipynb.html"
   ]
  },
  {
   "cell_type": "code",
   "execution_count": 2,
   "metadata": {
    "vscode": {
     "languageId": "javascript"
    }
   },
   "outputs": [
    {
     "data": {
      "text/plain": [
       "true"
      ]
     },
     "execution_count": 2,
     "metadata": {},
     "output_type": "execute_result"
    }
   ],
   "source": [
    "$$.async();\n",
    "// Lets wait for our element to be ready.\n",
    "localDispatcher.ready.waitFor().then($$.done);"
   ]
  },
  {
   "cell_type": "markdown",
   "metadata": {},
   "source": [
    "Now we want to listen to newly connected dispatchers. For this purpose, we create an observer, which will listen to changes."
   ]
  },
  {
   "cell_type": "code",
   "execution_count": 3,
   "metadata": {
    "vscode": {
     "languageId": "javascript"
    }
   },
   "outputs": [],
   "source": [
    "// Subscribe to changes\n",
    "const observer = localDispatcher.connectivityManager.dispatchers.onChange.subscribe(data => {\n",
    "  // Log the changes\n",
    "  console.log((new Date()).toISOString(),\"onChange - listener\");\n",
    "  console.log(\"\\tadded   =\", data.added);\n",
    "  console.log(\"\\tremoved =\", data.removed);\n",
    "});"
   ]
  },
  {
   "cell_type": "markdown",
   "metadata": {},
   "source": [
    "Additionally we want to show the currently connected dispatchers. In this data the own dispatcher will **allways** be included:"
   ]
  },
  {
   "cell_type": "code",
   "execution_count": 4,
   "metadata": {
    "vscode": {
     "languageId": "javascript"
    }
   },
   "outputs": [
    {
     "name": "stdout",
     "output_type": "stream",
     "text": [
      "connectedDispatchers    = [ 'local' ]\n",
      "localDispatcherIncluded = true\n"
     ]
    }
   ],
   "source": [
    "// Show our connected Dispatchers\n",
    "let connectedDispatchers = localDispatcher.connectivityManager.dispatchers.data.getContent();\n",
    "let localDispatcherIncluded = connectedDispatchers.includes(localDispatcher.id);\n",
    "\n",
    "// Now lets log our results.\n",
    "console.log(\"connectedDispatchers    =\", connectedDispatchers);\n",
    "console.log(\"localDispatcherIncluded =\", localDispatcherIncluded);"
   ]
  },
  {
   "cell_type": "markdown",
   "metadata": {},
   "source": [
    "Now that we have implemented our listeners and have seen the connected dispatchers (which is only the `\"local\"`-dispatchre), We will add an additional dispatcher. This should result in calling our `onChange`-listener. Additionally, we wait until our `remoteDispatcher` is initalized"
   ]
  },
  {
   "cell_type": "code",
   "execution_count": 5,
   "metadata": {
    "vscode": {
     "languageId": "javascript"
    }
   },
   "outputs": [
    {
     "name": "stdout",
     "output_type": "stream",
     "text": [
      "2023-03-28T15:21:08.178Z onChange - listener\n",
      "\tadded   = [ 'remote' ]\n",
      "\tremoved = []\n"
     ]
    }
   ],
   "source": [
    "// 2. Dispatcher simulates our remote system\n",
    "const remoteDispatcher = nope.dispatcher.getDispatcher({\n",
    "  communicator,\n",
    "  id: \"remote\"\n",
    "}, {\n",
    "  singleton: false,\n",
    "  useBaseServices: false\n",
    "});\n"
   ]
  },
  {
   "cell_type": "markdown",
   "metadata": {},
   "source": [
    "Now we want to see, which system is the current master. This should be our `local`."
   ]
  },
  {
   "cell_type": "code",
   "execution_count": 6,
   "metadata": {
    "vscode": {
     "languageId": "javascript"
    }
   },
   "outputs": [
    {
     "name": "stdout",
     "output_type": "stream",
     "text": [
      "master = local\n"
     ]
    }
   ],
   "source": [
    "// We expect to be the master, because the localDispatcher has been created first.\n",
    "console.log(\"master =\", localDispatcher.connectivityManager.master.id);"
   ]
  },
  {
   "cell_type": "markdown",
   "metadata": {},
   "source": [
    "We can now force the remote dispatcher to be our master, by setting the master. (For this purpose we can later use a base service ==> then we just have to call the service) "
   ]
  },
  {
   "cell_type": "code",
   "execution_count": 7,
   "metadata": {
    "vscode": {
     "languageId": "javascript"
    }
   },
   "outputs": [],
   "source": [
    "$$.async();\n",
    "\n",
    "remoteDispatcher.connectivityManager.isMaster = true;\n",
    "localDispatcher.connectivityManager.isMaster = false;\n",
    "\n",
    "// Our messaging is async ==> we wait an amount of time\n",
    "setTimeout(() => $$.done(),1000);"
   ]
  },
  {
   "cell_type": "code",
   "execution_count": 8,
   "metadata": {
    "vscode": {
     "languageId": "javascript"
    }
   },
   "outputs": [
    {
     "name": "stdout",
     "output_type": "stream",
     "text": [
      "master = remote\n",
      "master-info = {\n",
      "  id: 'remote',\n",
      "  env: 'javascript',\n",
      "  version: '1.0.0',\n",
      "  isMaster: true,\n",
      "  isMasterForced: true,\n",
      "  host: {\n",
      "    cores: 24,\n",
      "    cpu: {\n",
      "      model: 'AMD Ryzen 9 3900X 12-Core Process',\n",
      "      speed: 2392.7916666666665,\n",
      "      usage: 0.005828476269775229\n",
      "    },\n",
      "    os: 'linux',\n",
      "    ram: { usedPerc: 0.1775656306529374, free: 26332, total: 32018 },\n",
      "    name: 'manjaro'\n",
      "  },\n",
      "  pid: 64048,\n",
      "  timestamp: 1680016871193,\n",
      "  connectedSince: 1680016868176,\n",
      "  status: 0,\n",
      "  plugins: []\n",
      "}\n"
     ]
    }
   ],
   "source": [
    "// We expect the master to be the remote.\n",
    "console.log(\"master =\", localDispatcher.connectivityManager.master.id);\n",
    "console.log(\"master-info =\", localDispatcher.connectivityManager.master);"
   ]
  },
  {
   "cell_type": "markdown",
   "metadata": {},
   "source": [
    "Now lets see what happens if we adapt the heartbeat intervall of our *local* instance. We want to receive every 50 ms a heartbeat:"
   ]
  },
  {
   "cell_type": "code",
   "execution_count": 9,
   "metadata": {
    "vscode": {
     "languageId": "javascript"
    }
   },
   "outputs": [
    {
     "name": "stdout",
     "output_type": "stream",
     "text": [
      "2023-03-28T15:21:23.768Z master-info = 0\n",
      "2023-03-28T15:21:24.469Z master-info = 1\n",
      "2023-03-28T15:21:25.219Z master-info = 2\n",
      "2023-03-28T15:21:26.219Z master-info = 3\n"
     ]
    }
   ],
   "source": [
    "$$.async()\n",
    "\n",
    "const renderStatus = () => {\n",
    "  console.log((new Date()).toISOString(),\"master-info =\", localDispatcher.connectivityManager.master.status)\n",
    "}\n",
    "\n",
    "setTimeout(renderStatus, 50);\n",
    "setTimeout(renderStatus, 750);\n",
    "setTimeout(renderStatus, 1500);\n",
    "setTimeout(renderStatus, 2500);\n",
    "\n",
    "\n",
    "localDispatcher.connectivityManager.setTimings({\n",
    "  // our system will send every 50 ms an heartbeat.\n",
    "  sendAliveInterval: 250,\n",
    "  // we will check that after\n",
    "  checkInterval: 125,\n",
    "  // will mark dispatchers as slow after not receiving heartbeats for 50ms\n",
    "  slow: 500,\n",
    "  // we will mark  dispatchers with a warning flag after 50 ms\n",
    "  warn: 1000,\n",
    "  // we mark it as dead after 0.5 s\n",
    "  dead: 2000,\n",
    "  // We will remove the dispatcher after 1 s\n",
    "  remove: 3000,\n",
    "});\n",
    "\n",
    "remoteDispatcher.connectivityManager.setTimings({\n",
    "  // our system will send every 50 ms an heartbeat.\n",
    "  sendAliveInterval: 5000,\n",
    "});\n",
    "\n",
    "\n",
    "\n",
    "// We reset the timeouts.\n",
    "setTimeout(() => localDispatcher.connectivityManager.setTimings({}), 3000);\n",
    "setTimeout(() => remoteDispatcher.connectivityManager.setTimings({}), 3000);\n",
    "setTimeout(() => $$.done(), 5000);\n"
   ]
  },
  {
   "cell_type": "code",
   "execution_count": null,
   "metadata": {
    "vscode": {
     "languageId": "javascript"
    }
   },
   "outputs": [],
   "source": []
  }
 ],
 "metadata": {
  "kernelspec": {
   "display_name": "JavaScript (Node.js)",
   "language": "javascript",
   "name": "javascript"
  },
  "language_info": {
   "file_extension": ".js",
   "mimetype": "application/javascript",
   "name": "javascript",
   "version": "16.19.0"
  },
  "vscode": {
   "interpreter": {
    "hash": "369f2c481f4da34e4445cda3fffd2e751bd1c4d706f27375911949ba6bb62e1c"
   }
  }
 },
 "nbformat": 4,
 "nbformat_minor": 2
}
