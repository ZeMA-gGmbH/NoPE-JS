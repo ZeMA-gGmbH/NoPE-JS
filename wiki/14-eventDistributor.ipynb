{
 "cells": [
  {
   "cell_type": "markdown",
   "metadata": {},
   "source": [
    "# NoPE - Event-Distributor\n",
    "\n",
    "The NoPE-Dispatcher uses one `eventDistributor`. The distributor is used to share the events accross to other distributors.\n",
    "\n",
    "## An Event\n",
    "\n",
    "A event is not persisent. Once it is fired the `event-listeners` will be informed. There is ***no*** historic access to events. If you subscribed after the Event has been fired, you wont get \n",
    "\n",
    "## "
   ]
  },
  {
   "cell_type": "code",
   "execution_count": 1,
   "metadata": {},
   "outputs": [],
   "source": [
    "// First lets install nope using npm\n",
    "const nope = require(\"../dist-nodejs/index.nodejs\")\n",
    "\n",
    "// Create a communicator:\n",
    "// We will use the event layer (which just runs internally)\n",
    "const communicator = nope.getLayer(\"event\");\n",
    "\n",
    "// Lets create our dispatcher\n",
    "\n",
    "// 1. Dispatcher simulates our local system\n",
    "const localDispatcher = nope.dispatcher.getDispatcher({\n",
    "  communicator,\n",
    "  id: \"local\"\n",
    "}, {\n",
    "  singleton: false,\n",
    "  useBaseServices: false\n",
    "});"
   ]
  },
  {
   "cell_type": "markdown",
   "metadata": {},
   "source": [
    "> For Jupyter we need an extra async wrapper to wait for initalizing the dispatcher:\n",
    "\n",
    "see here for the details in Jupyter: https://n-riesco.github.io/ijavascript/doc/async.ipynb.html"
   ]
  },
  {
   "cell_type": "code",
   "execution_count": 2,
   "metadata": {},
   "outputs": [
    {
     "data": {
      "text/plain": [
       "true"
      ]
     },
     "execution_count": 2,
     "metadata": {},
     "output_type": "execute_result"
    }
   ],
   "source": [
    "$$.async();\n",
    "// Lets wait for our element to be ready.\n",
    "localDispatcher.ready.waitFor().then($$.done);"
   ]
  },
  {
   "cell_type": "markdown",
   "metadata": {},
   "source": [
    "Now we want to listen to newly connected dispatchers. For this purpose, we create an observer, which will listen to changes."
   ]
  },
  {
   "cell_type": "code",
   "execution_count": 3,
   "metadata": {},
   "outputs": [],
   "source": [
    "localDispatcher.eventDistributor.emit(\"eventName\",\"eventData\");"
   ]
  },
  {
   "cell_type": "markdown",
   "metadata": {},
   "source": [
    "Additionally we want to show the currently connected dispatchers. In this data the own dispatcher will **allways** be included:"
   ]
  },
  {
   "cell_type": "code",
   "execution_count": 4,
   "metadata": {},
   "outputs": [
    {
     "name": "stdout",
     "output_type": "stream",
     "text": [
      "connectedDispatchers    = [ 'local' ]\n",
      "localDispatcherIncluded = true\n"
     ]
    }
   ],
   "source": [
    "// Show our connected Dispatchers\n",
    "let connectedDispatchers = localDispatcher.connectivityManager.dispatchers.data.getContent();\n",
    "let localDispatcherIncluded = connectedDispatchers.includes(localDispatcher.id);\n",
    "\n",
    "// Now lets log our results.\n",
    "console.log(\"connectedDispatchers    =\", connectedDispatchers);\n",
    "console.log(\"localDispatcherIncluded =\", localDispatcherIncluded);"
   ]
  },
  {
   "cell_type": "markdown",
   "metadata": {},
   "source": [
    "Now that we have implemented our listeners and have seen the connected dispatchers (which is only the `\"local\"`-dispatchre), We will add an additional dispatcher. This should result in calling our `onChange`-listener. Additionally, we wait until our `remoteDispatcher` is initalized"
   ]
  },
  {
   "cell_type": "code",
   "execution_count": 5,
   "metadata": {},
   "outputs": [],
   "source": [
    "// 2. Dispatcher simulates our remote system\n",
    "const remoteDispatcher = nope.dispatcher.getDispatcher({\n",
    "  communicator,\n",
    "  id: \"remote\"\n",
    "}, {\n",
    "  singleton: false,\n",
    "  useBaseServices: false\n",
    "});\n"
   ]
  },
  {
   "cell_type": "markdown",
   "metadata": {},
   "source": [
    "Now we want to see, which system is the current master. This should be our `local`."
   ]
  },
  {
   "cell_type": "code",
   "execution_count": 6,
   "metadata": {},
   "outputs": [
    {
     "name": "stdout",
     "output_type": "stream",
     "text": [
      "master = local\n"
     ]
    }
   ],
   "source": [
    "// We expect to be the master, because the localDispatcher has been created first.\n",
    "console.log(\"master =\", localDispatcher.connectivityManager.master.id);"
   ]
  },
  {
   "cell_type": "markdown",
   "metadata": {},
   "source": [
    "Now we want to use our `eventDistributor`. Therefore we will create different subscriptions:"
   ]
  },
  {
   "cell_type": "code",
   "execution_count": 7,
   "metadata": {},
   "outputs": [
    {
     "name": "stdout",
     "output_type": "stream",
     "text": [
      "1. '#'          received {\"someProp\":\"Hello Local Dispatcher!\"} -  {\n",
      "  timestamp: 1680018177281,\n",
      "  forced: false,\n",
      "  args: [],\n",
      "  sender: '3b895326-7460-4bab-83c6-f676a9e8006a',\n",
      "  pubSubUpdate: true,\n",
      "  topicOfChange: 'test/event',\n",
      "  topicOfContent: 'test/event',\n",
      "  topicOfSubscription: '#'\n",
      "}\n",
      "2. 'test/+'     received {\"someProp\":\"Hello Local Dispatcher!\"} -  {\n",
      "  timestamp: 1680018177281,\n",
      "  forced: false,\n",
      "  args: [],\n",
      "  sender: '3b895326-7460-4bab-83c6-f676a9e8006a',\n",
      "  pubSubUpdate: true,\n",
      "  topicOfChange: 'test/event',\n",
      "  topicOfContent: 'test/event',\n",
      "  topicOfSubscription: 'test/+'\n",
      "}\n"
     ]
    },
    {
     "name": "stderr",
     "output_type": "stream",
     "text": [
      "UnhandledPromiseRejection: This error originated either by throwing inside of an async function without a catch block, or by rejecting a promise which was not handled with .catch(). The promise rejected with the reason \"The Path contains wildcards. Please use the method \"patternbasedPullData\" instead\"."
     ]
    }
   ],
   "source": [
    "const observers = []\n",
    "\n",
    "observers.push(\n",
    "    localDispatcher.eventDistributor.registerSubscription('#', (data, rest) => {\n",
    "        console.log(\"1. '#'          received \" + JSON.stringify(data) + \" - \", rest)\n",
    "    })\n",
    ");\n",
    "\n",
    "observers.push(\n",
    "    localDispatcher.eventDistributor.registerSubscription('test/+', (data, rest) => {\n",
    "        console.log(\"2. 'test/+'     received \" + JSON.stringify(data) + \" - \", rest)\n",
    "    })\n",
    ");\n",
    "\n",
    "observers.push(\n",
    "    localDispatcher.eventDistributor.registerSubscription('+/event/someProp', (data, rest) => {\n",
    "        console.log(\"3. '+/event'    received \" + JSON.stringify(data) + \" - \", rest)\n",
    "    })\n",
    ");\n",
    "\n",
    "observers.push(\n",
    "    localDispatcher.eventDistributor.registerSubscription('some/event', (data, rest) => {\n",
    "        // => Should not be called.\n",
    "        console.log(\"4. 'some/event' received \" + JSON.stringify(data) + \" - \", rest)\n",
    "    })\n",
    ");\n",
    "\n",
    "\n",
    "remoteDispatcher.eventDistributor.emit(\"test/event\", {someProp: \"Hello Local Dispatcher!\"});\n"
   ]
  }
 ],
 "metadata": {
  "kernelspec": {
   "display_name": "JavaScript (Node.js)",
   "language": "javascript",
   "name": "javascript"
  },
  "language_info": {
   "file_extension": ".js",
   "mimetype": "application/javascript",
   "name": "javascript",
   "version": "16.19.0"
  }
 },
 "nbformat": 4,
 "nbformat_minor": 2
}
