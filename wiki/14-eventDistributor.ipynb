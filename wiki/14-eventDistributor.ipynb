{
 "cells": [
  {
   "cell_type": "markdown",
   "metadata": {},
   "source": [
    "# NoPE - Event-Distributor\n",
    "\n",
    "The NoPE-Dispatcher uses one `eventDistributor`. The `EventDistributor` essentially represents a `PubSubSystem`. It distributes events over the network (or internally). The `PubSubSystem` can be used to listen for specific events. \n",
    "\n",
    "The `PubSubSystem` keeps a so called root object (essentially any data object). Data can be `subscribed` or `published` by means of so-called topics. The topics follow the `mqtt` patterns. While MQTT only allows subscriptions with so-called **single-level wildcards** and **multi-level wildcards**, the `PubSubSystem` can also use them to publish data / changes.\n",
    "\n",
    "\n",
    "## An Event\n",
    "\n",
    "A event is not persisent. Once it is fired the `event-listeners` will be informed. There is ***no*** historic access to events. If you subscribed after the Event has been fired, you wont get \n",
    "\n",
    "## Interact with the EventDistributor:\n",
    "\n",
    "Firstly we have to create a Dispatcher, that we are using to access the `eventDistributor`"
   ]
  },
  {
   "cell_type": "code",
   "execution_count": 1,
   "metadata": {},
   "outputs": [],
   "source": [
    "// First lets install nope using npm\n",
    "const nope = require(\"../dist-nodejs/index.nodejs\")\n",
    "\n",
    "// Create a communicator:\n",
    "// We will use the event layer (which just runs internally)\n",
    "const communicator = nope.getLayer(\"event\");\n",
    "\n",
    "// Lets create our dispatcher\n",
    "\n",
    "// 1. Dispatcher simulates our local system\n",
    "const localDispatcher = nope.dispatcher.getDispatcher({\n",
    "  communicator,\n",
    "  id: \"local\"\n",
    "}, {\n",
    "  singleton: false,\n",
    "  useBaseServices: false\n",
    "});"
   ]
  },
  {
   "cell_type": "markdown",
   "metadata": {},
   "source": [
    "> For Jupyter we need an extra async wrapper to wait for initalizing the dispatcher:\n",
    "\n",
    "see here for the details in Jupyter: https://n-riesco.github.io/ijavascript/doc/async.ipynb.html"
   ]
  },
  {
   "cell_type": "code",
   "execution_count": 2,
   "metadata": {},
   "outputs": [
    {
     "data": {
      "text/plain": [
       "true"
      ]
     },
     "execution_count": 2,
     "metadata": {},
     "output_type": "execute_result"
    }
   ],
   "source": [
    "$$.async();\n",
    "// Lets wait for our element to be ready.\n",
    "localDispatcher.ready.waitFor().then($$.done);"
   ]
  },
  {
   "cell_type": "markdown",
   "metadata": {},
   "source": [
    "### Topics in `PubSubSystem`\n",
    "In the example, the following JSON object is published on `''` (an empty topic):\n",
    "\n",
    "```json\n",
    "{\n",
    "    \"foo1\": [\"bar1\", \"baz2\"],\n",
    "    \"foo2\": [\"bar2\", \"baz2\"],\n",
    "}\n",
    "```\n",
    "\n",
    "Then the following Topic strings can be `subscribed` to get the associated values:\n",
    "\n",
    "```json\n",
    "\"\"         -> // the entire object\n",
    "\"foo1\"     -> // [\"bar1\", \"baz1\"]\n",
    "\"foo1/0\"   -> // \"bar1\"\n",
    "\"+/0\"      -> // [\"bar1\", \"bar2\"]\n",
    "\"+/+\"      -> // [\"bar1\", \"bar2\", \"baz1\", \"baz2\"]\n",
    "\"#\",       -> // [{\"foo1\": [\"bar1\", \"baz2\"]}, {\"foo2\": [\"bar2\", \"baz2\"]}, \"bar1\", \"bar2\", \"baz1\", \"baz2\"\n",
    "```\n",
    "\n",
    "Lets test that in our example: "
   ]
  },
  {
   "cell_type": "code",
   "execution_count": 3,
   "metadata": {},
   "outputs": [
    {
     "data": {
      "text/plain": [
       "8"
      ]
     },
     "execution_count": 3,
     "metadata": {},
     "output_type": "execute_result"
    }
   ],
   "source": [
    "// We firstly create our subscriptions:\n",
    "\n",
    "let observers = [];\n",
    "\n",
    "const toSubscribe = [\n",
    "    \"\",\n",
    "    \"foo1\",\n",
    "    \"foo1/0\",\n",
    "    \"foo2\",\n",
    "    \"foo2/0\",\n",
    "    \"+/0\",      // Singlelevel wildcards\n",
    "    \"+/+\",      // Singlelevel wildcards\n",
    "    \"#\"         // multilevel wildcard\n",
    "]\n",
    "\n",
    "// A function to add some extra space in a string:\n",
    "function renderTopic(s, _size){\n",
    "    s = \"'\" + s + \"'\";\n",
    "    while (s.length < _size) {\n",
    "        s = \" \" + s;\n",
    "    }\n",
    "    return s;\n",
    "}\n",
    "\n",
    "// Now subscribe the topics of toSubscribe\n",
    "for (const [idx,topic] of toSubscribe.entries()){\n",
    "    observers.push(\n",
    "        localDispatcher.eventDistributor.registerSubscription(topic, (data, rest) => {\n",
    "            console.log(idx,\" - \"+renderTopic(topic,8)+\" received \" + JSON.stringify(data))\n",
    "        })\n",
    "    );\n",
    "}"
   ]
  },
  {
   "cell_type": "markdown",
   "metadata": {},
   "source": [
    "After we have defined the elements to subscribe the content, we now are able to publish some content and identify, which observer gets informed:"
   ]
  },
  {
   "cell_type": "code",
   "execution_count": 4,
   "metadata": {},
   "outputs": [
    {
     "name": "stdout",
     "output_type": "stream",
     "text": [
      "0  -       '' received {\"foo1\":[\"bar1\",\"baz2\"],\"foo2\":[\"bar2\",\"baz2\"]}\n",
      "1  -   'foo1' received [\"bar1\",\"baz2\"]\n",
      "2  - 'foo1/0' received \"bar1\"\n",
      "3  -   'foo2' received [\"bar2\",\"baz2\"]\n",
      "4  - 'foo2/0' received \"bar2\"\n",
      "5  -    '+/0' received [{\"path\":\"foo1/0\",\"data\":\"bar1\"},{\"path\":\"foo2/0\",\"data\":\"bar2\"}]\n",
      "6  -    '+/+' received [{\"path\":\"foo1/0\",\"data\":\"bar1\"},{\"path\":\"foo1/1\",\"data\":\"baz2\"},{\"path\":\"foo2/0\",\"data\":\"bar2\"},{\"path\":\"foo2/1\",\"data\":\"baz2\"}]\n",
      "7  -      '#' received [{\"path\":\"foo1\",\"data\":[\"bar1\",\"baz2\"]},{\"path\":\"foo1/0\",\"data\":\"bar1\"},{\"path\":\"foo1/1\",\"data\":\"baz2\"},{\"path\":\"foo2\",\"data\":[\"bar2\",\"baz2\"]},{\"path\":\"foo2/0\",\"data\":\"bar2\"},{\"path\":\"foo2/1\",\"data\":\"baz2\"}]\n"
     ]
    }
   ],
   "source": [
    "localDispatcher.eventDistributor.emit(\"\",{\n",
    "    \"foo1\": [\"bar1\", \"baz2\"],\n",
    "    \"foo2\": [\"bar2\", \"baz2\"],\n",
    "});"
   ]
  },
  {
   "cell_type": "markdown",
   "metadata": {},
   "source": [
    "As you can see using this structure, all subscriptions get informed.\n",
    "\n",
    "Not let's change the emitting event to `'foo1'` and adapt the data to see which observer receives the info:"
   ]
  },
  {
   "cell_type": "code",
   "execution_count": 5,
   "metadata": {},
   "outputs": [
    {
     "name": "stdout",
     "output_type": "stream",
     "text": [
      "0  -       '' received {\"foo1\":[1,2,3,4,5],\"foo2\":[\"bar2\",\"baz2\"]}\n",
      "1  -   'foo1' received [1,2,3,4,5]\n",
      "7  -      '#' received [1,2,3,4,5]\n",
      "2  - 'foo1/0' received 1\n",
      "5  -    '+/0' received [{\"path\":\"foo1/0\",\"data\":1}]\n",
      "6  -    '+/+' received [{\"path\":\"foo1/0\",\"data\":1},{\"path\":\"foo1/1\",\"data\":2},{\"path\":\"foo1/2\",\"data\":3},{\"path\":\"foo1/3\",\"data\":4},{\"path\":\"foo1/4\",\"data\":5}]\n"
     ]
    }
   ],
   "source": [
    "localDispatcher.eventDistributor.emit(\"foo1\",[1,2,3,4,5]);"
   ]
  },
  {
   "cell_type": "code",
   "execution_count": 6,
   "metadata": {},
   "outputs": [
    {
     "name": "stdout",
     "output_type": "stream",
     "text": [
      "0  -       '' received {\"foo1\":[\"test\",2,3,4,5],\"foo2\":[\"bar2\",\"baz2\"]}\n",
      "1  -   'foo1' received [\"test\",2,3,4,5]\n",
      "2  - 'foo1/0' received \"test\"\n",
      "5  -    '+/0' received \"test\"\n",
      "6  -    '+/+' received \"test\"\n",
      "7  -      '#' received \"test\"\n"
     ]
    }
   ],
   "source": [
    "localDispatcher.eventDistributor.emit(\"foo1/0\",\"test\");"
   ]
  },
  {
   "cell_type": "markdown",
   "metadata": {},
   "source": [
    "Now we will send an event that is not subscribed. This should only inform : \n",
    "- `''`\n",
    "- `#`"
   ]
  },
  {
   "cell_type": "code",
   "execution_count": 7,
   "metadata": {},
   "outputs": [
    {
     "name": "stdout",
     "output_type": "stream",
     "text": [
      "0  -       '' received {\"foo1\":[\"test\",2,3,4,5],\"foo2\":[\"bar2\",\"baz2\"],\"eventName\":\"eventData\"}\n",
      "7  -      '#' received \"eventData\"\n"
     ]
    }
   ],
   "source": [
    "localDispatcher.eventDistributor.emit(\"eventName\",\"eventData\");"
   ]
  },
  {
   "cell_type": "markdown",
   "metadata": {},
   "source": [
    "## Show the distribution\n",
    "\n",
    "We will add an additional dispatcher, to show how multiple eventDistributors work together. This additional dispatcher is created manually but simulates an extra runtime on a different computing node."
   ]
  },
  {
   "cell_type": "code",
   "execution_count": 8,
   "metadata": {},
   "outputs": [],
   "source": [
    "// 2. Dispatcher simulates our remote system\n",
    "const remoteDispatcher = nope.dispatcher.getDispatcher({\n",
    "  communicator,\n",
    "  id: \"remote\"\n",
    "}, {\n",
    "  singleton: false,\n",
    "  useBaseServices: false\n",
    "});\n"
   ]
  },
  {
   "cell_type": "markdown",
   "metadata": {},
   "source": [
    "Now we wait for our dispatcher to be ready."
   ]
  },
  {
   "cell_type": "code",
   "execution_count": 9,
   "metadata": {},
   "outputs": [
    {
     "data": {
      "text/plain": [
       "true"
      ]
     },
     "execution_count": 9,
     "metadata": {},
     "output_type": "execute_result"
    }
   ],
   "source": [
    "$$.async();\n",
    "// Lets wait for our element to be ready.\n",
    "remoteDispatcher.ready.waitFor().then($$.done);"
   ]
  },
  {
   "cell_type": "markdown",
   "metadata": {},
   "source": [
    "Now we want to use our `eventDistributor` to emit Events instead of the local one. Therefore we will create different subscriptions:"
   ]
  },
  {
   "cell_type": "code",
   "execution_count": 10,
   "metadata": {
    "scrolled": true
   },
   "outputs": [
    {
     "name": "stdout",
     "output_type": "stream",
     "text": [
      "0  -       '' received {\"foo1\":[\"test\",2,3,4,5],\"foo2\":[\"bar2\",\"baz2\"],\"eventName\":\"eventData\",\"test\":{\"event\":{\"hello\":\"World\"}}}\n",
      "6  -    '+/+' received {\"hello\":\"World\"}\n",
      "7  -      '#' received {\"hello\":\"World\"}\n"
     ]
    }
   ],
   "source": [
    "remoteDispatcher.eventDistributor.emit(\"test/event\", {hello: \"World\"});\n"
   ]
  },
  {
   "cell_type": "markdown",
   "metadata": {},
   "source": [
    "## Using EventEmitter instead of callbacks\n",
    "\n",
    "Instead of using the functions `emit` and `registerSubscription` we can use the method `register`, to register `EventEmitter` directly. This mechanism is used for modules, containing eventEmitters. \n",
    "\n",
    "Let's show this in an example:"
   ]
  },
  {
   "cell_type": "code",
   "execution_count": 11,
   "metadata": {},
   "outputs": [
    {
     "name": "stdout",
     "output_type": "stream",
     "text": [
      "subscribers =  [\n",
      "  '',\n",
      "  'foo1',\n",
      "  'foo1/0',\n",
      "  'foo2',\n",
      "  'foo2/0',\n",
      "  '+/0',\n",
      "  '+/+',\n",
      "  '#',\n",
      "  'this/is/an/example'\n",
      "]\n",
      "publishers =  [ false ]\n"
     ]
    }
   ],
   "source": [
    "// Create a Publisher and Subscriber\n",
    "let emitter_01 = new nope.NopeEventEmitter();\n",
    "let emitter_02 = new nope.NopeEventEmitter();\n",
    "\n",
    "// Now we create some extra Subscriptions for these emitters:\n",
    "emitter_01.subscribe((data) => {\n",
    "    console.log(\"Subscription on emitter_01 received =\",data)\n",
    "});\n",
    "emitter_02.subscribe((data) => {\n",
    "    console.log(\"Subscription on emitter_02 received =\",data)\n",
    "});\n",
    "\n",
    "// Now we register them at the dispatchers:\n",
    "\n",
    "remoteDispatcher.eventDistributor.register(emitter_01, {\n",
    "   // we could receive and emit events:\n",
    "   mode: [\"publish\", \"subscribe\"],\n",
    "   topic: \"this/is/an/example\", \n",
    "});\n",
    "\n",
    "localDispatcher.eventDistributor.register(emitter_02, {    \n",
    "   // we could receive and emit events:\n",
    "   mode: [\"subscribe\"],\n",
    "   topic: \"this/is/an/example\", \n",
    "});\n",
    "\n",
    "// We now want to see the subscribed events:\n",
    "const subscribers = localDispatcher.eventDistributor.subscriptions.data.getContent();\n",
    "const publishers = localDispatcher.eventDistributor.publishers.data.getContent();\n",
    "\n",
    "console.log(\"subscribers = \",subscribers);\n",
    "console.log(\"publishers = \",publishers)"
   ]
  },
  {
   "cell_type": "markdown",
   "metadata": {},
   "source": [
    "By utilizing the same topics (here `'this/is/an/example'`) those elements are linked.\n",
    "Additionally, we defined, that the system is capable of publish and subscribe on the \n",
    "same topics. this enables the emitters to emit and receive events from external elements.\n",
    "\n",
    "We now exchange some events."
   ]
  },
  {
   "cell_type": "code",
   "execution_count": 12,
   "metadata": {},
   "outputs": [
    {
     "name": "stdout",
     "output_type": "stream",
     "text": [
      "Subscription on emitter_01 received = shared\n",
      "Subscription on emitter_02 received = shared\n"
     ]
    },
    {
     "data": {
      "text/plain": [
       "true"
      ]
     },
     "execution_count": 12,
     "metadata": {},
     "output_type": "execute_result"
    }
   ],
   "source": [
    "// For better readability we remove our old subscriptions:\n",
    "\n",
    "for (const obs of observers){\n",
    "    obs.unsubscribe();\n",
    "}\n",
    "\n",
    "observers = [];\n",
    "\n",
    "emitter_01.emit(\"shared\")"
   ]
  },
  {
   "cell_type": "markdown",
   "metadata": {},
   "source": [
    "This works for more complex data as well. \n",
    "Bescause our emitter_02 only is capable to receive data (see above, the mode was set to `subscribe`) events wont be send to other dispatchers."
   ]
  },
  {
   "cell_type": "code",
   "execution_count": 15,
   "metadata": {},
   "outputs": [
    {
     "name": "stdout",
     "output_type": "stream",
     "text": [
      "Subscription on emitter_02 received = { complex: 'data' }\n"
     ]
    },
    {
     "data": {
      "text/plain": [
       "true"
      ]
     },
     "execution_count": 15,
     "metadata": {},
     "output_type": "execute_result"
    }
   ],
   "source": [
    "emitter_02.emit({complex:\"data\"})"
   ]
  },
  {
   "cell_type": "markdown",
   "metadata": {},
   "source": [
    "Only the subscription of emitter_02 received the data change. This same holds for the mode `publish`. Thoses emitters wont receive external signals."
   ]
  },
  {
   "cell_type": "code",
   "execution_count": null,
   "metadata": {},
   "outputs": [],
   "source": []
  }
 ],
 "metadata": {
  "kernelspec": {
   "display_name": "JavaScript (Node.js)",
   "language": "javascript",
   "name": "javascript"
  },
  "language_info": {
   "file_extension": ".js",
   "mimetype": "application/javascript",
   "name": "javascript",
   "version": "16.16.0"
  }
 },
 "nbformat": 4,
 "nbformat_minor": 2
}
