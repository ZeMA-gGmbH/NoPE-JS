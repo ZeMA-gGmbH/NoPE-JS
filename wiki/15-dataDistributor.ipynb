{
 "cells": [
  {
   "cell_type": "markdown",
   "metadata": {},
   "source": [
    "# Data-Distributor\n",
    "\n",
    "The `DataDistributor` essentially represents a `DataPubSubSystem`. It distributes data over the NoPE network (or internally). Data is manipulated via JSON pointers (these are structured like MQTT topics; see above). In order to inform systems about changes, `subscribers` can be informed about changes like in MQTT. The wildcards of MQTT can be used to get the relevant information. I.e.:\n",
    "- The `DataDistributor` contains a `root` data object.\n",
    "    - The `root` data object can be modified via paths (similar to topics) (see methods `patternBasedPush` or `pushData`)\n",
    "- If the data object is manipulated, all changes are automatically forwarded to the interested `subscribers`.\n",
    "- The naming of the methods corresponds to the push and pull principle \n",
    "\n",
    "## DataPubSubSystem\n",
    "\n",
    "A data based publish and subscribe system.\n",
    "It extends the PubSubSystem by providing the methods and properties:\n",
    "- `pushData` to push data into the system.\n",
    "- `pullData` to pull data from the system. It always returns the current data or the default value if there is no data under the specified path.\n",
    "- `patternbasedPullData` to fetch data with a specific pattern. See the example for details.\n",
    "- `patternBasedPush` to push data with a given pattern into the system.\n",
    "- `data`: direct access to the `root` data object. This object is continuously present and always contains the most recent data manipulated by changes (see `patternBasedPush` or `pushData`).\n",
    "\n",
    "## Interact with the DataDistributor:\n",
    "\n",
    "Firstly we have to create a Dispatcher, that we are using to access the `eventDistributor`"
   ]
  },
  {
   "cell_type": "code",
   "execution_count": 1,
   "metadata": {},
   "outputs": [],
   "source": [
    "// First lets install nope using npm\n",
    "const nope = require(\"../dist-nodejs/index.nodejs\")\n",
    "\n",
    "// Create a communicator:\n",
    "// We will use the event layer (which just runs internally)\n",
    "const communicator = nope.getLayer(\"event\");\n",
    "\n",
    "// Lets create our dispatcher\n",
    "\n",
    "// 1. Dispatcher simulates our local system\n",
    "const localDispatcher = nope.dispatcher.getDispatcher({\n",
    "  communicator,\n",
    "  id: \"local\"\n",
    "}, {\n",
    "  singleton: false,\n",
    "  useBaseServices: false\n",
    "});"
   ]
  },
  {
   "cell_type": "markdown",
   "metadata": {},
   "source": [
    "> For Jupyter we need an extra async wrapper to wait for initalizing the dispatcher:\n",
    "\n",
    "see here for the details in Jupyter: https://n-riesco.github.io/ijavascript/doc/async.ipynb.html"
   ]
  },
  {
   "cell_type": "code",
   "execution_count": 2,
   "metadata": {},
   "outputs": [
    {
     "data": {
      "text/plain": [
       "true"
      ]
     },
     "execution_count": 2,
     "metadata": {},
     "output_type": "execute_result"
    }
   ],
   "source": [
    "$$.async();\n",
    "// Lets wait for our element to be ready.\n",
    "localDispatcher.ready.waitFor().then($$.done);"
   ]
  },
  {
   "cell_type": "code",
   "execution_count": 3,
   "metadata": {},
   "outputs": [],
   "source": [
    "// Create a short cut:\n",
    "const dataDistributor = localDispatcher.dataDistributor;"
   ]
  },
  {
   "cell_type": "markdown",
   "metadata": {},
   "source": [
    "We are now ready to manipulate some data in the system:"
   ]
  },
  {
   "cell_type": "code",
   "execution_count": 4,
   "metadata": {},
   "outputs": [
    {
     "data": {
      "text/plain": [
       "{ robot: { status: { state: 'waiting', speed: 0 } } }"
      ]
     },
     "execution_count": 4,
     "metadata": {},
     "output_type": "execute_result"
    }
   ],
   "source": [
    "// Now we manipulate the data:\n",
    "dataDistributor.pushData(\"\", { robot: {status: {state:\"waiting\", speed:0}}});\n",
    "dataDistributor.data"
   ]
  },
  {
   "cell_type": "markdown",
   "metadata": {},
   "source": [
    "## Subscribing to data Changes\n",
    "\n",
    "We are now interessed in data changes. We want allways be informed about the status of a specific object.\n",
    "\n",
    "Therefore we create an subscription of on the topic `robot/status`. By subscribing, we will immediately receive an update containing the current status:"
   ]
  },
  {
   "cell_type": "code",
   "execution_count": 5,
   "metadata": {},
   "outputs": [
    {
     "name": "stdout",
     "output_type": "stream",
     "text": [
      "The Robot-Status is { state: 'waiting', speed: 0 }\n"
     ]
    }
   ],
   "source": [
    "const observer = dataDistributor.registerSubscription(\"robot/status\", (data) => {\n",
    "    console.log(\"The Robot-Status is\",data)\n",
    "})"
   ]
  },
  {
   "cell_type": "markdown",
   "metadata": {},
   "source": [
    "We now simulate a change of the robots speed:"
   ]
  },
  {
   "cell_type": "code",
   "execution_count": 6,
   "metadata": {},
   "outputs": [
    {
     "name": "stdout",
     "output_type": "stream",
     "text": [
      "The Robot-Status is { state: 'waiting', speed: 0 }\n"
     ]
    },
    {
     "data": {
      "text/plain": [
       "'moving'"
      ]
     },
     "execution_count": 6,
     "metadata": {},
     "output_type": "execute_result"
    }
   ],
   "source": [
    "// We create an extra Element describing the status.\n",
    "// We use an observable for that purpose\n",
    "\n",
    "const robotStatus = new nope.NopeObservable();\n",
    "robotStatus.setContent({state:\"waiting\", speed:0});\n",
    "\n",
    "dataDistributor.register(robotStatus, {\n",
    "    mode: \"publish\",\n",
    "    topic: \"robot/status\"\n",
    "});\n",
    "\n",
    "// Now we adapt the status\n",
    "\n",
    "robotStatus.getContent().speed = 1;\n",
    "robotStatus.getContent().state = \"moving\";"
   ]
  },
  {
   "cell_type": "markdown",
   "metadata": {},
   "source": [
    "As we can see, we didnt receive an update. Thats based on the behavior of the observable. We have to trigger an update manually right now, or must use the method `setContent` instead of adapting the data object directly."
   ]
  },
  {
   "cell_type": "code",
   "execution_count": 11,
   "metadata": {},
   "outputs": [
    {
     "name": "stdout",
     "output_type": "stream",
     "text": [
      "The Robot-Status is { state: 'moving', speed: 1 }\n"
     ]
    },
    {
     "data": {
      "text/plain": [
       "false"
      ]
     },
     "execution_count": 11,
     "metadata": {},
     "output_type": "execute_result"
    }
   ],
   "source": [
    "robotStatus.forcePublish();\n",
    "\n",
    "// Alternative:\n",
    "robotStatus.setContent({state:\"moving\", speed:1});"
   ]
  },
  {
   "cell_type": "markdown",
   "metadata": {},
   "source": [
    "But why didn't receive 2 updates? we used the method `forcePublish` and `setContent` and assigned a new status-object, but didnt receive 2 notifications. This is related to the behavior of observables. They only emit changes, if the data really changed (what wasnt the case)"
   ]
  },
  {
   "cell_type": "markdown",
   "metadata": {},
   "source": [
    "## Accessing specific datapoints\n",
    "\n",
    "If we want to manipulate data we can use the method `pushData`. Lets add an additional status of an sensor:"
   ]
  },
  {
   "cell_type": "code",
   "execution_count": 12,
   "metadata": {},
   "outputs": [],
   "source": [
    "dataDistributor.pushData(\"sensor\", {status: {state:\"waiting\"}});"
   ]
  },
  {
   "cell_type": "markdown",
   "metadata": {},
   "source": [
    "The **root** object of the dataDistributor can be read with the property `data`"
   ]
  },
  {
   "cell_type": "code",
   "execution_count": 13,
   "metadata": {},
   "outputs": [
    {
     "data": {
      "text/plain": [
       "{\n",
       "  robot: { status: { state: 'moving', speed: 1 } },\n",
       "  sensor: { status: { state: 'waiting' } }\n",
       "}"
      ]
     },
     "execution_count": 13,
     "metadata": {},
     "output_type": "execute_result"
    }
   ],
   "source": [
    "dataDistributor.data"
   ]
  },
  {
   "cell_type": "markdown",
   "metadata": {},
   "source": [
    "If we want to access specific data points inside of the dataDistributor, we can use the function `pullData` or `patternBasedPullData`"
   ]
  },
  {
   "cell_type": "code",
   "execution_count": 14,
   "metadata": {},
   "outputs": [
    {
     "data": {
      "text/plain": [
       "{ status: { state: 'waiting' } }"
      ]
     },
     "execution_count": 14,
     "metadata": {},
     "output_type": "execute_result"
    }
   ],
   "source": [
    "// pull the data of the sensor:\n",
    "dataDistributor.pullData(\"sensor\",false)"
   ]
  },
  {
   "cell_type": "markdown",
   "metadata": {},
   "source": [
    "If the data is not present, you can provide an default value, which will be return instead.\n",
    "Otherwise an Error is thrown."
   ]
  },
  {
   "cell_type": "code",
   "execution_count": 21,
   "metadata": {},
   "outputs": [
    {
     "data": {
      "text/plain": [
       "'the default value, if the datapoint is not present is located here!'"
      ]
     },
     "execution_count": 21,
     "metadata": {},
     "output_type": "execute_result"
    }
   ],
   "source": [
    "// Data that is not present\n",
    "dataDistributor.pullData(\"not_contained\", \"the default value, if the datapoint is not present is located here!\")"
   ]
  },
  {
   "cell_type": "code",
   "execution_count": 22,
   "metadata": {},
   "outputs": [
    {
     "data": {
      "text/plain": [
       "[\n",
       "  { path: 'robot/status/state', data: 'moving' },\n",
       "  { path: 'sensor/status/state', data: 'waiting' }\n",
       "]"
      ]
     },
     "execution_count": 22,
     "metadata": {},
     "output_type": "execute_result"
    }
   ],
   "source": [
    "// Accessing data with a pattern\n",
    "dataDistributor.patternbasedPullData(\"+/status/state\")"
   ]
  },
  {
   "cell_type": "markdown",
   "metadata": {},
   "source": [
    "As you can see, we receive an array, which contains the object containing:\n",
    "- the `path` of the data\n",
    "- the `data`"
   ]
  },
  {
   "cell_type": "markdown",
   "metadata": {},
   "source": [
    "Additionally you are able to manipulate data using a path with wildcards, which will trigger our subscriptions as well:"
   ]
  },
  {
   "cell_type": "code",
   "execution_count": 24,
   "metadata": {},
   "outputs": [
    {
     "name": "stdout",
     "output_type": "stream",
     "text": [
      "The Robot-Status is { state: 'manipulated!', speed: 1 }\n"
     ]
    }
   ],
   "source": [
    "dataDistributor.patternBasedPush(\"+/status/state\", \"manipulated!\")"
   ]
  },
  {
   "cell_type": "markdown",
   "metadata": {},
   "source": [
    "If we look at the data again, we have manipulated the state of the sensor and robot"
   ]
  },
  {
   "cell_type": "code",
   "execution_count": 25,
   "metadata": {},
   "outputs": [
    {
     "data": {
      "text/plain": [
       "{\n",
       "  robot: { status: { state: 'manipulated!', speed: 1 } },\n",
       "  sensor: { status: { state: 'manipulated!' } }\n",
       "}"
      ]
     },
     "execution_count": 25,
     "metadata": {},
     "output_type": "execute_result"
    }
   ],
   "source": [
    "dataDistributor.data"
   ]
  },
  {
   "cell_type": "markdown",
   "metadata": {},
   "source": [
    "Like the `eventDistributor` the `dataDistributor` shares those changes with all runtimes in the network. For this purpose please check the docu of the [`eventDistributor`](./06-event-distributor.md)"
   ]
  },
  {
   "cell_type": "code",
   "execution_count": null,
   "metadata": {},
   "outputs": [],
   "source": []
  }
 ],
 "metadata": {
  "kernelspec": {
   "display_name": "JavaScript (Node.js)",
   "language": "javascript",
   "name": "javascript"
  },
  "language_info": {
   "file_extension": ".js",
   "mimetype": "application/javascript",
   "name": "javascript",
   "version": "16.16.0"
  }
 },
 "nbformat": 4,
 "nbformat_minor": 2
}
