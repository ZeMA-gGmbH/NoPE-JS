{
 "cells": [
  {
   "cell_type": "markdown",
   "metadata": {},
   "source": [
    "# 8. RPC-Manager\n",
    "\n",
    "## Description\n",
    "\n",
    "The `rpcManager` is essentially a service registry.\n",
    "\n",
    "### Service Registry\n",
    "\n",
    "A service registry is a tool used to store and manage information about available services in a distributed system. It is an important component of microservices architectures, where applications are divided into smaller, independent services that communicate over the network.\n",
    "\n",
    "A service registry serves as a central repository for metadata about each service, including its address, port number, protocol, and API version. When a service is started, it registers with the service registry, and when it is stopped, it is removed from it.\n",
    "\n",
    "Other services in the architecture can then query the Service Registry to find out which services are available and how they can communicate. This reduces the complexity of managing distributed systems and improves scalability and flexibility.\n",
    "\n",
    "### Service Broker\n",
    "\n",
    "A broker in the services world refers to a software tool or mechanism that acts as an intermediary between different services or applications. A broker is typically used in a service-oriented architecture (SOA) to facilitate and manage interaction and communication between different services.\n",
    "\n",
    "A broker provides various functions, such as message routing and transformation, monitoring, and security management. The broker can also perform tasks such as caching messages and routing requests to the most appropriate service.\n",
    "\n",
    "In an SOA environment, applications or services may communicate using different protocols and transports, and the broker acts as an intermediary to ensure that messages are exchanged correctly and reliably between the different systems. The broker can also help improve the scalability and flexibility of services by providing centralized control and management of service interactions.\n",
    "\n",
    "### Implementation of a service registry and broker in `NoPE` by the `rpcManager`.\n",
    "\n",
    "A service in `NoPE` is defined by an `id`. This usually corresponds to a name with which the service is to be addressed.\n",
    "\n",
    "In order to implement the required functionalities of a service registry, the `rpcManager` has the following methods and attributes:\n",
    "- `registerService`: This can be used to register services. These are then made available to all participants of the NoPE network.\n",
    "- `unregisterService`: This can be used to remove services from the network.\n",
    "- The `services` property provides an overview of which services are available (including frequency and their parameters and description).\n",
    "- The `serviceExists` method can be used to test whether the service is available.\n",
    "- `performCall` execute a service. All relevant communications are mapped by the `rpcManager`. The user does not know which runtime provides the service. \n",
    "    - The execution leads to a so called `task` which can be aborted by `cancelTask`. This leads to an exception at the calling unit.\n",
    "    - If several service providers (NoPE-Runtime) are able to execute the service, the provider can be selected via a callback. For this purpose there are predefined `selectors\n",
    "        - `master` (see `connectivityManager`) the master must execute the process\n",
    "        - `first`: any provider executes the serives (the first in the list)\n",
    "        - `dispatcher`: a specific dispatcher must run the service (defined by its id) \n",
    "        - `host`: a dispatcher on the defined host.\n",
    "        - `cpu-usage`: the dispatcher with the least CPU usage\n",
    "        - `free-ram`: The dispatcher with the lowest RAM usage\n",
    "    - services with `callbacks` can also be hosted via a plugin\n",
    "\n",
    "### Connecting the `rpcManager` in the NoPE network\n",
    "\n",
    "The regristrated services of a `rpcManager` are distributed in the network by the `bridge`. This is done at each regristration or deregistration of the services.\n",
    "\n",
    "In order to distribute the RPC requests within the network, the `rpcManager` uses the `bridge` to send messages. All `rpcManagers` respond to these messages and identify whether they have been addressed (for this purpose such a message can address a special dispatcher). If so, the appropriate RPC manager creates a task and runs the service in a parallel thread. As soon as this is finished or an error occurs, the task is considered as finished. If an error occurs -> this is transmitted in the response message, so that the error must be handled in the calling element. Otherwise the result is stored and the calling element gets the result.\n",
    "\n",
    "\n",
    ":::danger Take care\n",
    "\n",
    "Since a communication overhead arises during the execution of services, **all** services needs to be implemented async \n",
    "\n",
    ":::\n",
    "\n",
    "## Interact with the RPC-Manager\n",
    "\n",
    "Firstly we have to create a Dispatcher, that we are using to access the `rpcManager`"
   ]
  },
  {
   "cell_type": "code",
   "execution_count": 1,
   "metadata": {},
   "outputs": [],
   "source": [
    "// First lets install nope using npm\n",
    "const nope = require(\"../dist-nodejs/index.nodejs\")\n",
    "\n",
    "// Create a communicator:\n",
    "// We will use the event layer (which just runs internally)\n",
    "const communicator = nope.getLayer(\"event\");\n",
    "\n",
    "// Lets create our dispatcher\n",
    "\n",
    "// 1. Dispatcher simulates our local system\n",
    "const localDispatcher = nope.dispatcher.getDispatcher({\n",
    "  communicator,\n",
    "  id: \"local\"\n",
    "}, {\n",
    "  singleton: false,\n",
    "  useBaseServices: false\n",
    "});"
   ]
  },
  {
   "cell_type": "markdown",
   "metadata": {},
   "source": [
    "> For Jupyter we need an extra async wrapper to wait for initalizing the dispatcher:\n",
    "\n",
    "see here for the details in Jupyter: https://n-riesco.github.io/ijavascript/doc/async.ipynb.html"
   ]
  },
  {
   "cell_type": "code",
   "execution_count": 2,
   "metadata": {},
   "outputs": [
    {
     "data": {
      "text/plain": [
       "true"
      ]
     },
     "execution_count": 2,
     "metadata": {},
     "output_type": "execute_result"
    }
   ],
   "source": [
    "$$.async();\n",
    "// Lets wait for our element to be ready.\n",
    "localDispatcher.ready.waitFor().then($$.done);"
   ]
  },
  {
   "cell_type": "code",
   "execution_count": 3,
   "metadata": {},
   "outputs": [],
   "source": [
    "// Create a short cut:\n",
    "const rpcManager = localDispatcher.rpcManager;"
   ]
  },
  {
   "cell_type": "markdown",
   "metadata": {},
   "source": [
    "We are now able to interact with the rpc Manager.\n",
    "\n",
    "### Create a Service\n",
    "\n",
    "To show the functionality of the rpc-manager, we first create a helloworld service. It must be implemented `async`. "
   ]
  },
  {
   "cell_type": "code",
   "execution_count": 4,
   "metadata": {},
   "outputs": [],
   "source": [
    "const helloworld = async (greetings) => {\n",
    "      return \"Hello \" + greetings + \"!\";\n",
    "};"
   ]
  },
  {
   "cell_type": "markdown",
   "metadata": {},
   "source": [
    "We now register that service at our RPC-Manager. Therefore a service requries a unique `id`. Additionally we must share a `JSON`-Schema, describing the interface of the service."
   ]
  },
  {
   "cell_type": "code",
   "execution_count": 5,
   "metadata": {},
   "outputs": [
    {
     "data": {
      "text/plain": [
       "[AsyncFunction: helloworld] {\n",
       "  id: 'helloworld',\n",
       "  unregister: [Function (anonymous)]\n",
       "}"
      ]
     },
     "execution_count": 5,
     "metadata": {},
     "output_type": "execute_result"
    }
   ],
   "source": [
    "$$.async();\n",
    "rpcManager.registerService(helloworld, {\n",
    "    id: \"helloworld\",\n",
    "    schema: {\n",
    "        \"description\": \"Hello World Service\",\n",
    "        \"type\": \"function\",        \n",
    "        // To describe the used inputs of a function or serive we added the field \"inputs\" to the schema.\n",
    "        // It contains a list of all required inputs.\n",
    "        \"inputs\": [\n",
    "            {\n",
    "                // The Description of the Parameter\n",
    "                \"description\": \"The name which should receive a Greeting\",\n",
    "                // Its used name in the function (see the arguments of the function)\n",
    "                \"name\": \"greetings\",\n",
    "                // The Schema follows a default JSON-Schema\n",
    "                \"schema\": {\n",
    "                    \"type\": \"string\"\n",
    "                }\n",
    "            }\n",
    "        ],\n",
    "        // To describe the return of a function we added the field \"outputs\". It contains a \n",
    "        // JSON-Schema Object.\n",
    "        \"outputs\":{\n",
    "            \"type\": \"string\",\n",
    "            // We provide some extra Info for the other users.\n",
    "            \"description\": \"The greeting Message!\"\n",
    "        }\n",
    "    },\n",
    "}).then($$.done)"
   ]
  },
  {
   "cell_type": "markdown",
   "metadata": {},
   "source": [
    "We can now check which services are present:"
   ]
  },
  {
   "cell_type": "code",
   "execution_count": 6,
   "metadata": {},
   "outputs": [
    {
     "data": {
      "text/plain": [
       "[ 'helloworld' ]"
      ]
     },
     "execution_count": 6,
     "metadata": {},
     "output_type": "execute_result"
    }
   ],
   "source": [
    "// Receivce only the ids\n",
    "rpcManager.services.extractedKey;"
   ]
  },
  {
   "cell_type": "code",
   "execution_count": 7,
   "metadata": {},
   "outputs": [
    {
     "name": "stdout",
     "output_type": "stream",
     "text": [
      "[\n",
      "    {\n",
      "        \"id\": \"helloworld\",\n",
      "        \"schema\": {\n",
      "            \"description\": \"Hello World Service\",\n",
      "            \"type\": \"function\",\n",
      "            \"inputs\": [\n",
      "                {\n",
      "                    \"description\": \"The name which should receive a Greeting\",\n",
      "                    \"name\": \"greetings\",\n",
      "                    \"schema\": {\n",
      "                        \"type\": \"string\"\n",
      "                    }\n",
      "                }\n",
      "            ],\n",
      "            \"outputs\": {\n",
      "                \"type\": \"string\",\n",
      "                \"description\": \"The greeting Message!\"\n",
      "            }\n",
      "        }\n",
      "    }\n",
      "]\n"
     ]
    }
   ],
   "source": [
    "// Receivce the services with the defintion:\n",
    "console.log(\n",
    "    // Use JSON for pretty printing:\n",
    "    JSON.stringify(\n",
    "        rpcManager.services.data.getContent(), \n",
    "        undefined,\n",
    "        4\n",
    "    )\n",
    ");"
   ]
  },
  {
   "cell_type": "markdown",
   "metadata": {},
   "source": [
    "Additionally we can ask the manager, whether a service with an id exists:"
   ]
  },
  {
   "cell_type": "code",
   "execution_count": 8,
   "metadata": {},
   "outputs": [
    {
     "data": {
      "text/plain": [
       "true"
      ]
     },
     "execution_count": 8,
     "metadata": {},
     "output_type": "execute_result"
    }
   ],
   "source": [
    "rpcManager.serviceExists(\"helloworld\")"
   ]
  },
  {
   "cell_type": "markdown",
   "metadata": {},
   "source": [
    "Or we can as how many times the service is provided (currently only once, because we only have 1 dispatcher, we will change that later)"
   ]
  },
  {
   "cell_type": "code",
   "execution_count": 9,
   "metadata": {},
   "outputs": [
    {
     "data": {
      "text/plain": [
       "1"
      ]
     },
     "execution_count": 9,
     "metadata": {},
     "output_type": "execute_result"
    }
   ],
   "source": [
    "rpcManager.services.amountOf.get(\"helloworld\")"
   ]
  },
  {
   "cell_type": "markdown",
   "metadata": {},
   "source": [
    "Or we could as which dispatcher is providing the service:"
   ]
  },
  {
   "cell_type": "code",
   "execution_count": 10,
   "metadata": {},
   "outputs": [
    {
     "data": {
      "text/plain": [
       "Set(1) { 'local' }"
      ]
     },
     "execution_count": 10,
     "metadata": {},
     "output_type": "execute_result"
    }
   ],
   "source": [
    "rpcManager.services.keyMappingReverse.get(\"helloworld\")"
   ]
  },
  {
   "cell_type": "markdown",
   "metadata": {},
   "source": [
    "Because the service attribute is a `mergedData` element, we can susbcribe to update or `changes`.\n",
    "\n",
    "### Calling services\n",
    "\n",
    "Know that we know, that we have a helloworld service we can use the rpc manager to call it."
   ]
  },
  {
   "cell_type": "code",
   "execution_count": 11,
   "metadata": {},
   "outputs": [
    {
     "data": {
      "text/plain": [
       "NopePromise [Promise] { <pending> }"
      ]
     },
     "execution_count": 11,
     "metadata": {},
     "output_type": "execute_result"
    },
    {
     "name": "stdout",
     "output_type": "stream",
     "text": [
      "Hello first Parameter!\n"
     ]
    }
   ],
   "source": [
    "rpcManager.performCall(\"helloworld\", [\"first Parameter\"]).then(console.log);"
   ]
  },
  {
   "cell_type": "markdown",
   "metadata": {},
   "source": [
    "To simplify the call we can use the `methoInterface` of the RPC-Manager"
   ]
  },
  {
   "cell_type": "code",
   "execution_count": 12,
   "metadata": {},
   "outputs": [
    {
     "data": {
      "text/plain": [
       "NopePromise [Promise] { <pending> }"
      ]
     },
     "execution_count": 12,
     "metadata": {},
     "output_type": "execute_result"
    },
    {
     "name": "stdout",
     "output_type": "stream",
     "text": [
      "Hello first Parameter!\n"
     ]
    }
   ],
   "source": [
    "rpcManager.methodInterface.helloworld(\"first Parameter\").then(console.log);"
   ]
  },
  {
   "cell_type": "markdown",
   "metadata": {},
   "source": [
    "### Timeouts\n",
    "\n",
    "Sometimes it is necessary, to call services with a defined timeout therefore we can use addtional options.If the Timeout is reached, an Error is thrown. \n",
    "\n",
    "To show that behavior, we define a *slow* function:"
   ]
  },
  {
   "cell_type": "code",
   "execution_count": 13,
   "metadata": {},
   "outputs": [
    {
     "data": {
      "text/plain": [
       "[AsyncFunction: slowFunction] {\n",
       "  id: 'slow',\n",
       "  unregister: [Function (anonymous)]\n",
       "}"
      ]
     },
     "execution_count": 13,
     "metadata": {},
     "output_type": "execute_result"
    }
   ],
   "source": [
    "$$.async();\n",
    "const slowFunction = async (greetings) => {\n",
    "    // Delay the function  \n",
    "    await nope.sleep(2500); // wait 2,5 [s]\n",
    "    \n",
    "    return \"Hello \" + greetings + \"!\";\n",
    "};\n",
    "\n",
    "// Register the Function without a schema <- Bad Practice!!!\n",
    "rpcManager.registerService(slowFunction, {\n",
    "    id: \"slow\",\n",
    "    schema: {},\n",
    "}).then($$.done)"
   ]
  },
  {
   "cell_type": "markdown",
   "metadata": {},
   "source": [
    "Now lets call the function again with our timelimits"
   ]
  },
  {
   "cell_type": "code",
   "execution_count": 14,
   "metadata": {},
   "outputs": [
    {
     "data": {
      "text/plain": [
       "NopePromise [Promise] { <pending> }"
      ]
     },
     "execution_count": 14,
     "metadata": {},
     "output_type": "execute_result"
    },
    {
     "name": "stderr",
     "output_type": "stream",
     "text": [
      "Error: TIMEOUT. The Service allowed execution time of 0.5[ms] has been excided\n",
      "    at Timeout._onTimeout (C:\\Users\\m.karkowski\\Documents\\00-Repos\\NoPE-JS\\dist-nodejs\\dispatcher\\RpcManager\\NopeRpcManager.js:699:50)\n",
      "    at listOnTimeout (node:internal/timers:559:17)\n",
      "    at processTimers (node:internal/timers:502:7)\n"
     ]
    }
   ],
   "source": [
    "rpcManager.performCall(\n",
    "    \"slow\", \n",
    "    [\n",
    "        \"first Parameter\"\n",
    "    ], {\n",
    "        timeout: 0.5 // [ms]\n",
    "    }\n",
    ").then(console.log).catch(console.error);"
   ]
  },
  {
   "cell_type": "markdown",
   "metadata": {},
   "source": [
    "### Error Propagation\n",
    "\n",
    "In the case that a service throws an exception, the Exeception is forwarded to the call. Lets see this behavior by defining a funciton that allways will throw an error."
   ]
  },
  {
   "cell_type": "code",
   "execution_count": 15,
   "metadata": {},
   "outputs": [
    {
     "data": {
      "text/plain": [
       "[AsyncFunction: errorFunction] {\n",
       "  id: 'error',\n",
       "  unregister: [Function (anonymous)]\n",
       "}"
      ]
     },
     "execution_count": 15,
     "metadata": {},
     "output_type": "execute_result"
    }
   ],
   "source": [
    "$$.async();\n",
    "const errorFunction = async (greetings) => {\n",
    "    // Delay the function  \n",
    "    throw Error(\"Some internal Exception\")\n",
    "};\n",
    "\n",
    "// Register the Function without a schema <- Bad Practice!!!\n",
    "rpcManager.registerService(errorFunction, {\n",
    "    id: \"error\",\n",
    "    schema: {},\n",
    "}).then($$.done);"
   ]
  },
  {
   "cell_type": "markdown",
   "metadata": {},
   "source": [
    "Now, if we call the service, we receive an error"
   ]
  },
  {
   "cell_type": "code",
   "execution_count": 16,
   "metadata": {},
   "outputs": [
    {
     "data": {
      "text/plain": [
       "NopePromise [Promise] { <pending> }"
      ]
     },
     "execution_count": 16,
     "metadata": {},
     "output_type": "execute_result"
    },
    {
     "name": "stderr",
     "output_type": "stream",
     "text": [
      "{\n",
      "  error: Error: Some internal Exception\n",
      "      at errorFunction (evalmachine.<anonymous>:4:11)\n",
      "      at NopeRpcManager._handleExternalRequest (C:\\Users\\m.karkowski\\Documents\\00-Repos\\NoPE-JS\\dist-nodejs\\dispatcher\\RpcManager\\NopeRpcManager.js:151:40)\n",
      "      at EventEmitter.<anonymous> (C:\\Users\\m.karkowski\\Documents\\00-Repos\\NoPE-JS\\dist-nodejs\\dispatcher\\RpcManager\\NopeRpcManager.js:295:19)\n",
      "      at EventEmitter.emit (node:events:527:28)\n",
      "      at Bridge._emit (C:\\Users\\m.karkowski\\Documents\\00-Repos\\NoPE-JS\\dist-nodejs\\communication\\bridge.js:139:35)\n",
      "      at Bridge.emit (C:\\Users\\m.karkowski\\Documents\\00-Repos\\NoPE-JS\\dist-nodejs\\communication\\bridge.js:47:21)\n",
      "      at C:\\Users\\m.karkowski\\Documents\\00-Repos\\NoPE-JS\\dist-nodejs\\dispatcher\\RpcManager\\NopeRpcManager.js:691:43\n",
      "      at new Promise (<anonymous>)\n",
      "      at new NopePromise (C:\\Users\\m.karkowski\\Documents\\00-Repos\\NoPE-JS\\dist-nodejs\\promise\\nopePromise.js:40:9)\n",
      "      at NopeRpcManager._performCall (C:\\Users\\m.karkowski\\Documents\\00-Repos\\NoPE-JS\\dist-nodejs\\dispatcher\\RpcManager\\NopeRpcManager.js:628:21),\n",
      "  msg: 'Error: Some internal Exception'\n",
      "}\n"
     ]
    }
   ],
   "source": [
    "rpcManager.performCall(\n",
    "    \"error\", \n",
    "    [\n",
    "        \"first Parameter\"\n",
    "    ]\n",
    ").then(console.log).catch(console.error);"
   ]
  },
  {
   "cell_type": "markdown",
   "metadata": {},
   "source": [
    "### Cancel Services\n",
    "\n",
    "We have the posibility to define services that are able to be canceled. Lets see how it works:\n"
   ]
  },
  {
   "cell_type": "code",
   "execution_count": 17,
   "metadata": {},
   "outputs": [
    {
     "data": {
      "text/plain": [
       "[Function: cancelFunction] {\n",
       "  id: 'cancel',\n",
       "  unregister: [Function (anonymous)]\n",
       "}"
      ]
     },
     "execution_count": 17,
     "metadata": {},
     "output_type": "execute_result"
    }
   ],
   "source": [
    "$$.async();\n",
    "\n",
    "const cancelFunction = function(parameter) {\n",
    "    // We must use a nope.NopePromise\n",
    "    const promise = new nope.NopePromise( \n",
    "        (resolve, reject) => {\n",
    "            // We resolve our Promise in 5000 ms\n",
    "            setTimeout(resolve, 5000)\n",
    "        }\n",
    "    )\n",
    "    \n",
    "    promise.cancel = (reason) => {\n",
    "        console.log(\"Function canceled. Reason = \", reason);\n",
    "    }\n",
    "    \n",
    "    return promise;\n",
    "}\n",
    "\n",
    "// Register the Function without a schema <- Bad Practice!!!\n",
    "rpcManager.registerService(cancelFunction, {\n",
    "    id: \"cancel\",\n",
    "    schema: {},\n",
    "}).then($$.done);"
   ]
  },
  {
   "cell_type": "markdown",
   "metadata": {},
   "source": [
    "We can allways use the promise return by our perform call, to cancel a rpc request."
   ]
  },
  {
   "cell_type": "code",
   "execution_count": 18,
   "metadata": {},
   "outputs": [
    {
     "data": {
      "text/plain": [
       "NopePromise [Promise] { <pending> }"
      ]
     },
     "execution_count": 18,
     "metadata": {},
     "output_type": "execute_result"
    },
    {
     "name": "stdout",
     "output_type": "stream",
     "text": [
      "Function canceled. Reason =  Demo\n"
     ]
    },
    {
     "name": "stderr",
     "output_type": "stream",
     "text": [
      "Demo\n",
      "UnhandledPromiseRejection: This error originated either by throwing inside of an async function without a catch block, or by rejecting a promise which was not handled with .catch(). The promise rejected with the reason \"Demo\"."
     ]
    }
   ],
   "source": [
    "const promise = rpcManager.performCall(\n",
    "    \"cancel\", \n",
    "    [\n",
    "        \"first Parameter\"\n",
    "    ]\n",
    ");\n",
    "\n",
    "promise.catch(console.error);\n",
    "promise.then(console.log)\n",
    "\n",
    "const timeout = setTimeout( _ => {\n",
    "    promise.cancel(\"Demo\")\n",
    "}, 100);"
   ]
  },
  {
   "cell_type": "markdown",
   "metadata": {},
   "source": [
    "## Connect to RPC-Managers\n",
    "\n",
    "The main idea is, to keep the interface the same. It doesnt madder, whether a service is running in a local dispatcher or in a remote dispatcher. This hides the distribution an unifies the interface. \n",
    "\n",
    "Lets create an additional RPC-Manager simulating a external Manager."
   ]
  },
  {
   "cell_type": "code",
   "execution_count": 19,
   "metadata": {},
   "outputs": [],
   "source": [
    "// 2. Dispatcher simulates our remote system\n",
    "const remoteDispatcher = nope.dispatcher.getDispatcher({\n",
    "  communicator,\n",
    "  id: \"remote\"\n",
    "}, {\n",
    "  singleton: false,\n",
    "  useBaseServices: false\n",
    "});\n"
   ]
  },
  {
   "cell_type": "code",
   "execution_count": 20,
   "metadata": {},
   "outputs": [
    {
     "data": {
      "text/plain": [
       "true"
      ]
     },
     "execution_count": 20,
     "metadata": {},
     "output_type": "execute_result"
    }
   ],
   "source": [
    "$$.async();\n",
    "// Lets wait for our element to be ready.\n",
    "remoteDispatcher.ready.waitFor().then($$.done);"
   ]
  },
  {
   "cell_type": "markdown",
   "metadata": {},
   "source": [
    "Now we wait for our dispatcher to be ready."
   ]
  },
  {
   "cell_type": "code",
   "execution_count": 21,
   "metadata": {},
   "outputs": [],
   "source": [
    "$$.async();\n",
    "// Lets wait some milliseconds\n",
    "remoteDispatcher.connectivityManager.emitBonjour().then($$.done);"
   ]
  },
  {
   "cell_type": "markdown",
   "metadata": {},
   "source": [
    "Now we can check which services are available for the 2. Dispatcher."
   ]
  },
  {
   "cell_type": "code",
   "execution_count": 22,
   "metadata": {},
   "outputs": [
    {
     "data": {
      "text/plain": [
       "[\n",
       "  {\n",
       "    id: 'helloworld',\n",
       "    schema: {\n",
       "      description: 'Hello World Service',\n",
       "      type: 'function',\n",
       "      inputs: [Array],\n",
       "      outputs: [Object]\n",
       "    }\n",
       "  },\n",
       "  { id: 'slow', schema: {} },\n",
       "  { id: 'error', schema: {} },\n",
       "  { id: 'cancel', schema: {} }\n",
       "]"
      ]
     },
     "execution_count": 22,
     "metadata": {},
     "output_type": "execute_result"
    }
   ],
   "source": [
    "remoteDispatcher.rpcManager.services.data.getContent();"
   ]
  },
  {
   "cell_type": "markdown",
   "metadata": {},
   "source": [
    "Now lets use the second RPC-Manager to perform a call"
   ]
  },
  {
   "cell_type": "code",
   "execution_count": 23,
   "metadata": {},
   "outputs": [
    {
     "data": {
      "text/plain": [
       "NopePromise [Promise] { <pending> }"
      ]
     },
     "execution_count": 23,
     "metadata": {},
     "output_type": "execute_result"
    },
    {
     "name": "stdout",
     "output_type": "stream",
     "text": [
      "Hello first Parameter!\n"
     ]
    }
   ],
   "source": [
    "remoteDispatcher.rpcManager.methodInterface.helloworld(\"first Parameter\").then(console.log);"
   ]
  },
  {
   "cell_type": "markdown",
   "metadata": {},
   "source": [
    "As you can see there is no difference, whether a service is running locally or externally. \n",
    "\n",
    "But you may ask, what happens, if 2 providers are hosting services with the same id. Lets register our Helloworld service to the second dispatcher to discuss that situation."
   ]
  },
  {
   "cell_type": "code",
   "execution_count": 24,
   "metadata": {},
   "outputs": [
    {
     "data": {
      "text/plain": [
       "[AsyncFunction: helloworldRemote] {\n",
       "  id: 'helloworld',\n",
       "  unregister: [Function (anonymous)]\n",
       "}"
      ]
     },
     "execution_count": 24,
     "metadata": {},
     "output_type": "execute_result"
    }
   ],
   "source": [
    "$$.async();\n",
    "\n",
    "const helloworldRemote = async (greetings) => {    \n",
    "    return \"Hello \" + greetings + \" from Remote!\";\n",
    "};\n",
    "\n",
    "// Register the Function without a schema <- Bad Practice!!!\n",
    "remoteDispatcher.rpcManager.registerService(helloworldRemote, {\n",
    "    id: \"helloworld\",\n",
    "    schema: {\n",
    "        \"description\": \"Hello World Service\",\n",
    "        \"type\": \"function\",\n",
    "        // To describe the used inputs of a function or serive we added the field \"inputs\" to the schema.\n",
    "        // It contains a list of all required inputs.\n",
    "        \"inputs\": [\n",
    "            {\n",
    "                // The Description of the Parameter\n",
    "                \"description\": \"The name which should receive a Greeting\",\n",
    "                // Its used name in the function (see the arguments of the function)\n",
    "                \"name\": \"greetings\",\n",
    "                // The Schema follows a default JSON-Schema\n",
    "                \"schema\": {\n",
    "                    \"type\": \"string\"\n",
    "                }\n",
    "            }\n",
    "        ],\n",
    "        // To describe the return of a function we added the field \"outputs\". It contains a \n",
    "        // JSON-Schema Object.\n",
    "        \"outputs\": {\n",
    "            \"type\": \"string\",\n",
    "            // We provide some extra Info for the other users.\n",
    "            \"description\": \"The greeting Message!\"\n",
    "        }\n",
    "    },\n",
    "}).then($$.done);"
   ]
  },
  {
   "cell_type": "code",
   "execution_count": 25,
   "metadata": {},
   "outputs": [
    {
     "data": {
      "text/plain": [
       "true"
      ]
     },
     "execution_count": 25,
     "metadata": {},
     "output_type": "execute_result"
    }
   ],
   "source": [
    "$$.async();\n",
    "// Lets wait for our element to be ready.\n",
    "remoteDispatcher.ready.waitFor().then($$.done);"
   ]
  },
  {
   "cell_type": "code",
   "execution_count": 26,
   "metadata": {},
   "outputs": [],
   "source": [
    "$$.async();\n",
    "// Lets wait for our element to be ready.\n",
    "nope.sleep(500).then($$.done);"
   ]
  },
  {
   "cell_type": "markdown",
   "metadata": {},
   "source": [
    "If we now checkout our providers, we should be able, to see, that there are 2 providers:"
   ]
  },
  {
   "cell_type": "code",
   "execution_count": 27,
   "metadata": {},
   "outputs": [
    {
     "data": {
      "text/plain": [
       "2"
      ]
     },
     "execution_count": 27,
     "metadata": {},
     "output_type": "execute_result"
    }
   ],
   "source": [
    "remoteDispatcher.rpcManager.services.amountOf.get(\"helloworld\")"
   ]
  },
  {
   "cell_type": "markdown",
   "metadata": {},
   "source": [
    "Now we can ask, which dispatcher is providing the services:"
   ]
  },
  {
   "cell_type": "code",
   "execution_count": 28,
   "metadata": {},
   "outputs": [
    {
     "data": {
      "text/plain": [
       "Set(2) { 'local', 'remote' }"
      ]
     },
     "execution_count": 28,
     "metadata": {},
     "output_type": "execute_result"
    }
   ],
   "source": [
    "rpcManager.services.keyMappingReverse.get(\"helloworld\")"
   ]
  },
  {
   "cell_type": "markdown",
   "metadata": {},
   "source": [
    "In our case - as desired - both dispatchers are able to execute the service. Now the question arises, what happes, if we perform the service?"
   ]
  },
  {
   "cell_type": "code",
   "execution_count": 29,
   "metadata": {},
   "outputs": [
    {
     "data": {
      "text/plain": [
       "NopePromise [Promise] { <pending> }"
      ]
     },
     "execution_count": 29,
     "metadata": {},
     "output_type": "execute_result"
    },
    {
     "name": "stdout",
     "output_type": "stream",
     "text": [
      "Hello first Parameter!\n"
     ]
    }
   ],
   "source": [
    "remoteDispatcher.rpcManager.methodInterface.helloworld(\"first Parameter\").then(console.log);"
   ]
  },
  {
   "cell_type": "markdown",
   "metadata": {},
   "source": [
    "The Service is executed. But how do we controll, which provider should execute the request?\n",
    "\n",
    "To control, which provider should execute the service, we are using a **default** provided strategy. This strategy uses the first dispatcher it finds providing this service. There are although some other predefined strategies like:\n",
    "\n",
    "- `master` (see `connectivityManager`) the master must execute the process\n",
    "- `first`: any provider executes the serives (the first in the list)\n",
    "- `dispatcher`: a specific dispatcher must run the service (defined by its id) \n",
    "- `host`: a dispatcher on the defined host.\n",
    "- `cpu-usage`: the dispatcher with the least CPU usage\n",
    "- `free-ram`: The dispatcher with the lowest RAM usage\n",
    "\n",
    "So lets now use the `dispatcher` strategy and force the execution on our second dispatcher:"
   ]
  },
  {
   "cell_type": "code",
   "execution_count": 30,
   "metadata": {},
   "outputs": [
    {
     "data": {
      "text/plain": [
       "NopePromise [Promise] { <pending> }"
      ]
     },
     "execution_count": 30,
     "metadata": {},
     "output_type": "execute_result"
    },
    {
     "name": "stdout",
     "output_type": "stream",
     "text": [
      "Hello first Parameter from Remote!\n"
     ]
    }
   ],
   "source": [
    "remoteDispatcher.rpcManager.methodInterfaceWithOptions.helloworld(\n",
    "    {\n",
    "        // We create an async callback which must return an dispatcher ID\n",
    "        selector: async () => {\n",
    "            return \"remote\"\n",
    "        }\n",
    "    },\n",
    "    \"first Parameter\"\n",
    ").then(console.log);"
   ]
  },
  {
   "cell_type": "code",
   "execution_count": null,
   "metadata": {},
   "outputs": [],
   "source": []
  }
 ],
 "metadata": {
  "kernelspec": {
   "display_name": "JavaScript (Node.js)",
   "language": "javascript",
   "name": "javascript"
  },
  "language_info": {
   "file_extension": ".js",
   "mimetype": "application/javascript",
   "name": "javascript",
   "version": "16.16.0"
  }
 },
 "nbformat": 4,
 "nbformat_minor": 2
}
