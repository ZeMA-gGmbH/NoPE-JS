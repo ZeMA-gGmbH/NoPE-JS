{
 "cells": [
  {
   "cell_type": "markdown",
   "metadata": {},
   "source": [
    "# 9.Instance-Manager\n",
    "\n",
    "The instance Manager manages the instances in `NoPE`. \n",
    "\n",
    "## Description\n",
    "\n",
    "The `instanceManager` is used to create, remove and get access to instances. the approach is based on the object oriented method. I.e. there are the following elements:\n",
    "- Classes: \n",
    "    - These describe a blueprint of a behavior. \n",
    "    - Are identified in `NoPE` by an ID / a `type`.\n",
    "    - Classes have constructors that create an instance: \n",
    "        - Offered in `NoPE` as a service (service name includes the identifier, among other things).\n",
    "- Instances:\n",
    "    - Are instances of a class (corresponds to so-called objects).\n",
    "    - Are identified in `NoPE` by identifier (here `strings`)\n",
    "    - have the properties, methods and eventEmitters created in the classes.\n",
    "    - Can be \"destroyed\" via so-called destroyers. Thus they are deleted.\n",
    "\n",
    "The manager keeps track of the available instances in the network and allows to create `wrappers` for these instances. This allows to simplify and unify the access for the user of instances running in a different runtime. To make this possible it uses the following elements:\n",
    "- `connectivityManager`: see above. Used to identify new and dead dispatchers. \n",
    "    - if a new `dispatcher` is identified, standardized descriptions of all hosted instances are sent.\n",
    "    - if a `dispatcher` is identified as dead, the `wrappers` are deleted or removed.\n",
    "- rpcManager`: see above. Used here to distribute `constructors` of classes and `destructors` of instances on the network. I.e.:\n",
    "    - The creation of a new instance corresponds to a service call.\n",
    "    - Deleting an instance corresponds to a service call\n",
    "    - The `constructors` of the classes and `destructors` of the instances follow a defined naming convention, so that they can be identified by the `instanceManager`.\n",
    "\n",
    "### Interface to interact with the Instance Manager\n",
    "\n",
    "The `InstanceManger` can be interacted with using the following methods and properties:\n",
    "- `getInstancesOfType`: returns all available instances of a given type.\n",
    "- `instanceExists`: tests if an instance with the given identifier exists.\n",
    "- `getInstanceDescription`: Returns the standardized description of an instance. This information is also shared with all `instanceManagers` on the network.\n",
    "- `registerInstance`: Allows to **manually** register an instance.\n",
    "- `deleteInstance`: Allows the **manual** removal of an instance.\n",
    "- `registerConstructor`: Registers a constructor. Among other things, it is possible to specify the number of instances that may be created on the `instanceManager`. If more than one `dispatcher` is able to create an instance with the given type, then - as with `rpcManger` - the selection follows via a so-called selector.\n",
    "- `unregisterConstructor`: Removes a constructor.\n",
    "- `constructorExists`: Tests if a constructor is known for a type.\n",
    "- `createInstance`: Allows the creation of an instance. This may be the case for remote dispatchers or for the same element. Only a wrapper communicating with a dispatcher is returned, since we do not know where the element is provided. To know which `instanceManager` hosts the instance can use the `getDispatcherForInstance` method. The returned `wrapper` behaves like a normal \"internal\" class. If this method is called, a `GenericModule` is returned as type by default. If a special wrapper is required for a type, such wrappers can be defined and customized via `registerInternalWrapperGenerator` and `unregisterInternalWrapperGenerator`. Here, too, the type is decisive.\n",
    "\n",
    "## Interact with the Instance-Manager\n",
    "\n",
    "\n",
    "Firstly we have to create a Dispatcher, that we are using to access the `instanceManager`"
   ]
  },
  {
   "cell_type": "code",
   "execution_count": 1,
   "metadata": {},
   "outputs": [],
   "source": [
    "// First lets install nope using npm\n",
    "const nope = require(\"../dist-nodejs/index.nodejs\")\n",
    "\n",
    "// Create a communicator:\n",
    "// We will use the event layer (which just runs internally)\n",
    "const communicator = nope.getLayer(\"event\");\n",
    "\n",
    "// Lets create our dispatcher\n",
    "\n",
    "// 1. Dispatcher simulates our local system\n",
    "const localDispatcher = nope.dispatcher.getDispatcher({\n",
    "  communicator,\n",
    "  id: \"local\"\n",
    "}, {\n",
    "  singleton: false,\n",
    "  useBaseServices: false\n",
    "});"
   ]
  },
  {
   "cell_type": "markdown",
   "metadata": {},
   "source": [
    "> For Jupyter we need an extra async wrapper to wait for initalizing the dispatcher:\n",
    "\n",
    "see here for the details in Jupyter: https://n-riesco.github.io/ijavascript/doc/async.ipynb.html"
   ]
  },
  {
   "cell_type": "code",
   "execution_count": 2,
   "metadata": {},
   "outputs": [
    {
     "data": {
      "text/plain": [
       "true"
      ]
     },
     "execution_count": 2,
     "metadata": {},
     "output_type": "execute_result"
    }
   ],
   "source": [
    "$$.async();\n",
    "// Lets wait for our element to be ready.\n",
    "localDispatcher.ready.waitFor().then($$.done);"
   ]
  },
  {
   "cell_type": "code",
   "execution_count": 3,
   "metadata": {},
   "outputs": [],
   "source": [
    "// Create a short cut:\n",
    "const instanceManager = localDispatcher.instanceManager;"
   ]
  },
  {
   "cell_type": "markdown",
   "metadata": {},
   "source": [
    "We are now able to interact with the instance Manager.\n",
    "\n",
    "### List a Instance\n",
    "\n",
    "To get all instance we can use the property `instances`. It allows us to subscribe for changes (`instances.onChange`) or read all descriptions of the instances. Now lets find out if there are some instance available."
   ]
  },
  {
   "cell_type": "code",
   "execution_count": 4,
   "metadata": {},
   "outputs": [
    {
     "data": {
      "text/plain": [
       "[]"
      ]
     },
     "execution_count": 4,
     "metadata": {},
     "output_type": "execute_result"
    }
   ],
   "source": [
    "instanceManager.instances.data.getContent()"
   ]
  },
  {
   "cell_type": "markdown",
   "metadata": {},
   "source": [
    "Obviously there is no instance. So lets create one. \n",
    "\n",
    "\n",
    ":::danger Info\n",
    "\n",
    "All instances must be a `NopeBaseModule`\n",
    "\n",
    ":::\n",
    "\n",
    "For our tutorial we will create a Helloworld Module:"
   ]
  },
  {
   "cell_type": "code",
   "execution_count": 5,
   "metadata": {},
   "outputs": [],
   "source": [
    "const injectable = require(\"inversify\").injectable;\n",
    "\n",
    "class HelloWorldModule extends nope.InjectableNopeBaseModule\n",
    "{\n",
    "\n",
    "    async greet(name) {\n",
    "        return \"Hello \" + name + \" from our Module (\"+this.identifier+\")!\"\n",
    "    }\n",
    "\n",
    "\n",
    "    /**\n",
    "     * Our initializer\n",
    "     */\n",
    "    async init() {\n",
    "        this.author = {\n",
    "            forename: \"M.Karkowski\",\n",
    "            surename: \"Karkowski\",\n",
    "            mail: \"m.karkowski@zema.de\"\n",
    "        };\n",
    "\n",
    "        this.description = \"An Example\";\n",
    "        this.version = {\n",
    "            date: new Date(\"5.3.2023\"),\n",
    "            version: 1.0,\n",
    "        };\n",
    "\n",
    "        await super.init();\n",
    "        \n",
    "        await this.registerMethod(\n",
    "            \"greet\",\n",
    "            this.greet.bind(this),\n",
    "            {\n",
    "                schema: {\n",
    "                    type: \"function\",\n",
    "                    inputs: [\n",
    "                        {\n",
    "                            // The Description of the Parameter\n",
    "                            description: \"The name which should receive a Greeting\",\n",
    "                            // Its used name in the function (see the arguments of the function)\n",
    "                            name: \"name\",\n",
    "                            // The Schema follows a default JSON-Schema\n",
    "                            schema: {\n",
    "                                type: \"string\"\n",
    "                            }\n",
    "                        }\n",
    "                    ],\n",
    "                    outputs: {\n",
    "                        // TODO: Add implementation here!\n",
    "                    },\n",
    "                }\n",
    "            }\n",
    "        );\n",
    "        \n",
    "                            \n",
    "    }\n",
    "}"
   ]
  },
  {
   "cell_type": "markdown",
   "metadata": {},
   "source": [
    "Now lets create an instance:"
   ]
  },
  {
   "cell_type": "code",
   "execution_count": 6,
   "metadata": {},
   "outputs": [],
   "source": [
    "$$.async();\n",
    "\n",
    "const instance = new HelloWorldModule(localDispatcher)\n",
    "\n",
    "// Assign an identifier\n",
    "instance.identifier = \"instance\"\n",
    "\n",
    "// and initialize the instance.\n",
    "\n",
    "instance.init().then($$.done);"
   ]
  },
  {
   "cell_type": "markdown",
   "metadata": {},
   "source": [
    "Now, we add our instance to the Dispatcher:"
   ]
  },
  {
   "cell_type": "code",
   "execution_count": 7,
   "metadata": {},
   "outputs": [
    {
     "data": {
      "text/plain": [
       "HelloWorldModule {\n",
       "  _core: <ref *1> NopeDispatcher {\n",
       "    options: { communicator: [Bridge], id: 'local' },\n",
       "    generateEmitter: [Function (anonymous)],\n",
       "    generateObservable: [Function (anonymous)],\n",
       "    id: 'local',\n",
       "    communicator: Bridge {\n",
       "      considerConnection: true,\n",
       "      _internalEmitter: [EventEmitter],\n",
       "      _callbacks: [Map],\n",
       "      _layers: Map(0) {},\n",
       "      id: '00b346e0-7efe-4df5-b9a8-ba70800bbda4',\n",
       "      _logger: undefined,\n",
       "      _useInternalEmitter: true,\n",
       "      connected: [NopeObservable]\n",
       "    },\n",
       "    _logger: undefined,\n",
       "    eventDistributor: PubSubSystemBase {\n",
       "      _options: [Object],\n",
       "      _data: {},\n",
       "      _sendCurrentDataOnSubscription: false,\n",
       "      _id: 'dc3428fb-34a3-42af-baa6-d17110a809c1',\n",
       "      _emitters: Map(0) {},\n",
       "      _emittersToObservers: Map(0) {},\n",
       "      _matched: Map(0) {},\n",
       "      _disposing: false,\n",
       "      _generateEmitterType: [Function (anonymous)],\n",
       "      _comparePatternAndPath: [Function],\n",
       "      subscriptions: [MapBasedMergeData],\n",
       "      publishers: [MapBasedMergeData],\n",
       "      onIncrementalDataChange: [NopeEventEmitter]\n",
       "    },\n",
       "    dataDistributor: DataPubSubSystem {\n",
       "      _options: [Object],\n",
       "      _data: {},\n",
       "      _sendCurrentDataOnSubscription: true,\n",
       "      _id: 'ed38009b-9cb5-4bd9-93f8-532e57ee4c72',\n",
       "      _emitters: Map(0) {},\n",
       "      _emittersToObservers: Map(0) {},\n",
       "      _matched: Map(0) {},\n",
       "      _disposing: false,\n",
       "      _generateEmitterType: [Function (anonymous)],\n",
       "      _comparePatternAndPath: [Function],\n",
       "      subscriptions: [MapBasedMergeData],\n",
       "      publishers: [MapBasedMergeData],\n",
       "      onIncrementalDataChange: [NopeEventEmitter]\n",
       "    },\n",
       "    connectivityManager: NopeConnectivityManager {\n",
       "      options: [Object],\n",
       "      _generateObservable: [Function (anonymous)],\n",
       "      id: 'local',\n",
       "      _deltaTime: 0,\n",
       "      _checkInterval: Timeout {\n",
       "        _idleTimeout: 250,\n",
       "        _idlePrev: [TimersList],\n",
       "        _idleNext: [TimersList],\n",
       "        _idleStart: 11224,\n",
       "        _onTimeout: [Function (anonymous)],\n",
       "        _timerArgs: undefined,\n",
       "        _repeat: 250,\n",
       "        _destroyed: false,\n",
       "        [Symbol(refed)]: true,\n",
       "        [Symbol(kHasPrimitive)]: false,\n",
       "        [Symbol(asyncId)]: 19,\n",
       "        [Symbol(triggerId)]: 12\n",
       "      },\n",
       "      _sendInterval: Timeout {\n",
       "        _idleTimeout: 500,\n",
       "        _idlePrev: [TimersList],\n",
       "        _idleNext: [Timeout],\n",
       "        _idleStart: 10914,\n",
       "        _onTimeout: [Function (anonymous)],\n",
       "        _timerArgs: undefined,\n",
       "        _repeat: 500,\n",
       "        _destroyed: false,\n",
       "        [Symbol(refed)]: true,\n",
       "        [Symbol(kHasPrimitive)]: false,\n",
       "        [Symbol(asyncId)]: 20,\n",
       "        [Symbol(triggerId)]: 12\n",
       "      },\n",
       "      _cpuInterval: Timeout {\n",
       "        _idleTimeout: 500,\n",
       "        _idlePrev: [Timeout],\n",
       "        _idleNext: [TimersList],\n",
       "        _idleStart: 10913,\n",
       "        _onTimeout: [Function (anonymous)],\n",
       "        _timerArgs: undefined,\n",
       "        _repeat: 500,\n",
       "        _destroyed: false,\n",
       "        [Symbol(refed)]: true,\n",
       "        [Symbol(kHasPrimitive)]: false,\n",
       "        [Symbol(asyncId)]: 18,\n",
       "        [Symbol(triggerId)]: 12\n",
       "      },\n",
       "      _cpuLoad: 0.06532036898529048,\n",
       "      _communicator: [Bridge],\n",
       "      _connectedSince: 1682069823308,\n",
       "      __isMaster: null,\n",
       "      _logger: undefined,\n",
       "      _timeouts: [Object],\n",
       "      ready: [NopeObservable],\n",
       "      _externalDispatchers: [Map],\n",
       "      dispatchers: [MapBasedMergeData]\n",
       "    },\n",
       "    rpcManager: NopeRpcManager {\n",
       "      options: [Object],\n",
       "      _generateObservable: [Function (anonymous)],\n",
       "      _defaultSelector: [AsyncFunction (anonymous)],\n",
       "      _id: 'local',\n",
       "      _connectivityManager: [NopeConnectivityManager],\n",
       "      _communicator: [Bridge],\n",
       "      _logger: undefined,\n",
       "      ready: [NopeObservable],\n",
       "      __warned: false,\n",
       "      methodInterfaceWithOptions: {},\n",
       "      methodInterface: {},\n",
       "      services: [MapBasedMergeData],\n",
       "      onCancelTask: [NopeEventEmitter],\n",
       "      _runningInternalRequestedTasks: Map(0) {},\n",
       "      _registeredServices: [Map],\n",
       "      _mappingOfDispatchersAndServices: [Map],\n",
       "      _runningExternalRequestedTasks: Map(0) {}\n",
       "    },\n",
       "    instanceManager: NopeInstanceManager {\n",
       "      options: [Object],\n",
       "      _generateEmitter: [Function (anonymous)],\n",
       "      _generateObservable: [Function (anonymous)],\n",
       "      _defaultSelector: [AsyncFunction (anonymous)],\n",
       "      _id: 'local',\n",
       "      _connectivityManager: [NopeConnectivityManager],\n",
       "      _rpcManager: [NopeRpcManager],\n",
       "      _core: [Circular *1],\n",
       "      _communicator: [Bridge],\n",
       "      _logger: undefined,\n",
       "      ready: [NopeObservable],\n",
       "      constructorServices: [NopeObservable],\n",
       "      _mappingOfRemoteDispatchersAndGenerators: Map(0) {},\n",
       "      constructors: [MapBasedMergeData],\n",
       "      _mappingOfRemoteDispatchersAndInstances: [Map],\n",
       "      instances: [MapBasedMergeData],\n",
       "      internalInstances: [NopeObservable],\n",
       "      _internalWrapperGenerators: [Map],\n",
       "      _registeredConstructors: Map(0) {},\n",
       "      _instances: [Map],\n",
       "      _externalInstances: Map(0) {},\n",
       "      _internalInstances: [Set],\n",
       "      _initializingInstance: Map(0) {},\n",
       "      _externalInstancesNames: Set(0) {}\n",
       "    },\n",
       "    ready: NopeObservable {\n",
       "      _options: [Object],\n",
       "      id: '7036ac08-3577-43d1-a3d9-4f27cb0e558c',\n",
       "      options: [Object],\n",
       "      setter: null,\n",
       "      _getter: [Function (anonymous)],\n",
       "      _subscriptions: Set(0) {},\n",
       "      disablePublishing: false,\n",
       "      _emitter: [BehaviorSubject]\n",
       "    },\n",
       "    disposing: false\n",
       "  },\n",
       "  description: 'An Example',\n",
       "  author: {\n",
       "    forename: 'M.Karkowski',\n",
       "    surename: 'Karkowski',\n",
       "    mail: 'm.karkowski@zema.de'\n",
       "  },\n",
       "  version: { date: 2023-05-02T22:00:00.000Z, version: 1 },\n",
       "  identifier: 'instance',\n",
       "  _registeredMethods: Map(1) { 'greet' => { method: [AsyncFunction], options: [Object] } },\n",
       "  _registeredProperties: Map(0) {},\n",
       "  _registeredEvents: Map(0) {},\n",
       "  uiLinks: [],\n",
       "  _logger: {\n",
       "    context: { name: 'BaseModule', filterLevel: [Object] },\n",
       "    log: [Function: info]\n",
       "  }\n",
       "}"
      ]
     },
     "execution_count": 7,
     "metadata": {},
     "output_type": "execute_result"
    }
   ],
   "source": [
    "$$.async();\n",
    "\n",
    "instanceManager.registerInstance(instance).then($$.done);"
   ]
  },
  {
   "cell_type": "markdown",
   "metadata": {},
   "source": [
    "Now our instance is registered. Lets try to find it:"
   ]
  },
  {
   "cell_type": "code",
   "execution_count": 8,
   "metadata": {},
   "outputs": [
    {
     "data": {
      "text/plain": [
       "[\n",
       "  {\n",
       "    author: {\n",
       "      forename: 'M.Karkowski',\n",
       "      surename: 'Karkowski',\n",
       "      mail: 'm.karkowski@zema.de'\n",
       "    },\n",
       "    description: 'An Example',\n",
       "    methods: { greet: [Object] },\n",
       "    events: {},\n",
       "    identifier: 'instance',\n",
       "    properties: {},\n",
       "    type: 'HelloWorldModule',\n",
       "    version: { date: 2023-05-02T22:00:00.000Z, version: 1 },\n",
       "    uiLinks: []\n",
       "  }\n",
       "]"
      ]
     },
     "execution_count": 8,
     "metadata": {},
     "output_type": "execute_result"
    }
   ],
   "source": [
    "instanceManager.instances.data.getContent()"
   ]
  },
  {
   "cell_type": "markdown",
   "metadata": {},
   "source": [
    "### Working with instance remotely:\n",
    "\n",
    "\n",
    "The main idea is, to keep share instances and allow remote access to them. Lets look at this possiblities by creating an simulated remote dispatcher:"
   ]
  },
  {
   "cell_type": "code",
   "execution_count": 9,
   "metadata": {},
   "outputs": [],
   "source": [
    "// 2. Dispatcher simulates our remote system\n",
    "const remoteDispatcher = nope.dispatcher.getDispatcher({\n",
    "  communicator,\n",
    "  id: \"remote\"\n",
    "}, {\n",
    "  singleton: false,\n",
    "  useBaseServices: false\n",
    "});"
   ]
  },
  {
   "cell_type": "markdown",
   "metadata": {},
   "source": [
    "Now we wait for our dispatcher to be ready."
   ]
  },
  {
   "cell_type": "code",
   "execution_count": 10,
   "metadata": {},
   "outputs": [
    {
     "data": {
      "text/plain": [
       "true"
      ]
     },
     "execution_count": 10,
     "metadata": {},
     "output_type": "execute_result"
    }
   ],
   "source": [
    "$$.async();\n",
    "// Lets wait for our element to be ready.\n",
    "remoteDispatcher.ready.waitFor().then($$.done);"
   ]
  },
  {
   "cell_type": "code",
   "execution_count": 11,
   "metadata": {},
   "outputs": [],
   "source": [
    "$$.async();\n",
    "// Lets wait some milliseconds\n",
    "remoteDispatcher.connectivityManager.emitBonjour().then($$.done);"
   ]
  },
  {
   "cell_type": "markdown",
   "metadata": {},
   "source": [
    "Lets try to check, whether the instance manager has received the instances:"
   ]
  },
  {
   "cell_type": "code",
   "execution_count": 12,
   "metadata": {},
   "outputs": [
    {
     "data": {
      "text/plain": [
       "[\n",
       "  {\n",
       "    author: {\n",
       "      forename: 'M.Karkowski',\n",
       "      surename: 'Karkowski',\n",
       "      mail: 'm.karkowski@zema.de'\n",
       "    },\n",
       "    description: 'An Example',\n",
       "    methods: { greet: [Object] },\n",
       "    events: {},\n",
       "    identifier: 'instance',\n",
       "    properties: {},\n",
       "    type: 'HelloWorldModule',\n",
       "    version: { date: 2023-05-02T22:00:00.000Z, version: 1 },\n",
       "    uiLinks: []\n",
       "  }\n",
       "]"
      ]
     },
     "execution_count": 12,
     "metadata": {},
     "output_type": "execute_result"
    }
   ],
   "source": [
    "remoteDispatcher.instanceManager.instances.data.getContent()"
   ]
  },
  {
   "cell_type": "markdown",
   "metadata": {},
   "source": [
    "Okay, we got the Instance but how do we acces it?\n",
    "\n",
    "Therefore we create an wrapper that will do all the *magic* for us\n"
   ]
  },
  {
   "cell_type": "code",
   "execution_count": 13,
   "metadata": {},
   "outputs": [],
   "source": [
    "let wrapper = null;"
   ]
  },
  {
   "cell_type": "code",
   "execution_count": 14,
   "metadata": {},
   "outputs": [
    {
     "name": "stdout",
     "output_type": "stream",
     "text": [
      "\u001b[34m 2023-04-21T09:37:08.789Z \u001b[0m - \u001b[32m DEBUG \u001b[0m - \u001b[47m\u001b[30m BaseModule \u001b[0m \u001b[32m : Create function interface for \"greet\" \u001b[0m\n",
      "Instance created\n"
     ]
    }
   ],
   "source": [
    "$$.async();\n",
    "remoteDispatcher.instanceManager.generateWrapper({\n",
    "      identifier: \"instance\",\n",
    "      type: \"HelloWorldModule\",\n",
    "}).then( w => {\n",
    "    wrapper = w;\n",
    "    console.log(\"Instance created\");\n",
    "    $$.done();\n",
    "}).catch(console.error)"
   ]
  },
  {
   "cell_type": "markdown",
   "metadata": {},
   "source": [
    "\n",
    ":::danger Warning\n",
    "\n",
    "This is not the recommended Way to create wrappers. You should work using constructors and the method `createInstance` to enable management and disposing Instances.\n",
    "\n",
    "You are only allowed to use the method `generateWrapper` for manually registered instances!  \n",
    "\n",
    ":::\n",
    "\n",
    "Now that we have our wrapper, we can just call the methods like we would interact with the element."
   ]
  },
  {
   "cell_type": "code",
   "execution_count": 15,
   "metadata": {},
   "outputs": [
    {
     "data": {
      "text/plain": [
       "'Hello Example from our Module (instance)!'"
      ]
     },
     "execution_count": 15,
     "metadata": {},
     "output_type": "execute_result"
    }
   ],
   "source": [
    "$$.async();\n",
    "\n",
    "wrapper.greet(\"Example\").then($$.done);"
   ]
  },
  {
   "cell_type": "markdown",
   "metadata": {},
   "source": [
    "#### What is shared using a remote instance\n",
    "\n",
    "The remote instance are capable to share:\n",
    "- events using [EventEmitters](/docs/help/Tutorials/nodejs/basics/eventemitters)\n",
    "- properties using [Observables](/docs/help/Tutorials/nodejs/basics/observables)\n",
    "- methods\n",
    "\n",
    "The `nope-js project` **Tool** supports you by building such modules."
   ]
  },
  {
   "cell_type": "markdown",
   "metadata": {},
   "source": [
    "### Constructors\n",
    "\n",
    "Instead of using static instances `NoPE` allows us to dynamically create instance. Therefore we must register a Constructor.\n",
    "\n",
    "We beginn by creating a **Constructor** that will create instances of the type `HelloWorldModule` for us. This constructor is essentially a method (following the same interface), which will be used in a factory to create the instances."
   ]
  },
  {
   "cell_type": "code",
   "execution_count": 16,
   "metadata": {},
   "outputs": [],
   "source": [
    "$$.async()\n",
    "\n",
    "// Now we register a Constructor\n",
    "instanceManager.registerConstructor(\n",
    "    \"HelloWorldModule\",\n",
    "    async (core, identifier) => {\n",
    "        return new HelloWorldModule(core);\n",
    "    }\n",
    ").then($$.done);"
   ]
  },
  {
   "cell_type": "markdown",
   "metadata": {},
   "source": [
    ":::danger Warning\n",
    "\n",
    "Constructors must follow this definition. If you need additional attributes during creation of the instance you **must** add them as arguments to the **init** method of that classes. \n",
    "\n",
    "NoPE enables the following order if using constructors:\n",
    "\n",
    "1. Create the instance using the **factory** registered as constructor\n",
    "2. Call the **init** method on the instance created by the **factory**. NoPE forwards the params to the **init** method.\n",
    "\n",
    ":::\n",
    "\n",
    "\n",
    "\n",
    "Now we have a constructor created. We should be able to figure out which construcors in `NoPE` using the following code below:"
   ]
  },
  {
   "cell_type": "code",
   "execution_count": 17,
   "metadata": {},
   "outputs": [
    {
     "data": {
      "text/plain": [
       "[ 'HelloWorldModule' ]"
      ]
     },
     "execution_count": 17,
     "metadata": {},
     "output_type": "execute_result"
    }
   ],
   "source": [
    "remoteDispatcher.instanceManager.constructors.data.getContent();"
   ]
  },
  {
   "cell_type": "markdown",
   "metadata": {},
   "source": [
    "Now we create a new instance of our module using the method `createInstance`. The function will return a corresponding wrapper for the instance."
   ]
  },
  {
   "cell_type": "code",
   "execution_count": 18,
   "metadata": {},
   "outputs": [],
   "source": [
    "let other =  null;"
   ]
  },
  {
   "cell_type": "code",
   "execution_count": 19,
   "metadata": {},
   "outputs": [
    {
     "name": "stdout",
     "output_type": "stream",
     "text": [
      "\u001b[34m 2023-04-21T09:37:10.747Z \u001b[0m - \u001b[32m DEBUG \u001b[0m - \u001b[47m\u001b[30m BaseModule \u001b[0m \u001b[32m : Create function interface for \"greet\" \u001b[0m\n"
     ]
    }
   ],
   "source": [
    "$$.async();\n",
    "\n",
    "instanceManager.createInstance({\n",
    "      identifier: \"other\",\n",
    "      type: \"HelloWorldModule\",\n",
    "      params: [],\n",
    "}).then( w => {\n",
    "    other = w;\n",
    "    $$.done();\n",
    "}).catch(console.error)"
   ]
  },
  {
   "cell_type": "markdown",
   "metadata": {},
   "source": [
    "Now we should have 2 instances. "
   ]
  },
  {
   "cell_type": "code",
   "execution_count": 20,
   "metadata": {},
   "outputs": [
    {
     "data": {
      "text/plain": [
       "[\n",
       "  {\n",
       "    author: {\n",
       "      forename: 'M.Karkowski',\n",
       "      surename: 'Karkowski',\n",
       "      mail: 'm.karkowski@zema.de'\n",
       "    },\n",
       "    description: 'An Example',\n",
       "    methods: { greet: [Object] },\n",
       "    events: {},\n",
       "    identifier: 'instance',\n",
       "    properties: {},\n",
       "    type: 'HelloWorldModule',\n",
       "    version: { date: 2023-05-02T22:00:00.000Z, version: 1 },\n",
       "    uiLinks: []\n",
       "  },\n",
       "  {\n",
       "    author: {\n",
       "      forename: 'M.Karkowski',\n",
       "      surename: 'Karkowski',\n",
       "      mail: 'm.karkowski@zema.de'\n",
       "    },\n",
       "    description: 'An Example',\n",
       "    methods: { greet: [Object] },\n",
       "    events: {},\n",
       "    identifier: 'other',\n",
       "    properties: {},\n",
       "    type: 'HelloWorldModule',\n",
       "    version: { date: 2023-05-02T22:00:00.000Z, version: 1 },\n",
       "    uiLinks: []\n",
       "  }\n",
       "]"
      ]
     },
     "execution_count": 20,
     "metadata": {},
     "output_type": "execute_result"
    }
   ],
   "source": [
    "remoteDispatcher.instanceManager.instances.data.getContent()"
   ]
  },
  {
   "cell_type": "markdown",
   "metadata": {},
   "source": [
    "We are now able to interact with the wrapper like it is an internal element:\n"
   ]
  },
  {
   "cell_type": "code",
   "execution_count": 21,
   "metadata": {},
   "outputs": [
    {
     "data": {
      "text/plain": [
       "'Hello Example from our Module (other)!'"
      ]
     },
     "execution_count": 21,
     "metadata": {},
     "output_type": "execute_result"
    }
   ],
   "source": [
    "$$.async();\n",
    "\n",
    "other.greet(\"Example\").then($$.done);"
   ]
  },
  {
   "cell_type": "markdown",
   "metadata": {},
   "source": [
    "If the instance isnt requried anymore we can dispose it. This will NoPE to check, if other Runtimes although access the instance. If not the instance is disposed."
   ]
  },
  {
   "cell_type": "code",
   "execution_count": 22,
   "metadata": {},
   "outputs": [],
   "source": [
    "$$.async();\n",
    "\n",
    "other.dispose().then($$.done);"
   ]
  },
  {
   "cell_type": "markdown",
   "metadata": {},
   "source": [
    "In our case, just one element used the instance, this results in removing the instance."
   ]
  },
  {
   "cell_type": "code",
   "execution_count": 23,
   "metadata": {},
   "outputs": [
    {
     "data": {
      "text/plain": [
       "[\n",
       "  {\n",
       "    author: {\n",
       "      forename: 'M.Karkowski',\n",
       "      surename: 'Karkowski',\n",
       "      mail: 'm.karkowski@zema.de'\n",
       "    },\n",
       "    description: 'An Example',\n",
       "    methods: { greet: [Object] },\n",
       "    events: {},\n",
       "    identifier: 'instance',\n",
       "    properties: {},\n",
       "    type: 'HelloWorldModule',\n",
       "    version: { date: 2023-05-02T22:00:00.000Z, version: 1 },\n",
       "    uiLinks: []\n",
       "  }\n",
       "]"
      ]
     },
     "execution_count": 23,
     "metadata": {},
     "output_type": "execute_result"
    }
   ],
   "source": [
    "remoteDispatcher.instanceManager.instances.data.getContent()"
   ]
  },
  {
   "cell_type": "markdown",
   "metadata": {},
   "source": [
    ":::tip Info\n",
    "\n",
    "Instances can be used by different Runtimes the same time. To make shure you get those relevant infos, you should allways use the **subscribe** functionality on *properties* oder *events*.\n",
    "\n",
    ":::"
   ]
  },
  {
   "cell_type": "code",
   "execution_count": null,
   "metadata": {},
   "outputs": [],
   "source": []
  },
  {
   "cell_type": "code",
   "execution_count": null,
   "metadata": {},
   "outputs": [],
   "source": []
  },
  {
   "cell_type": "code",
   "execution_count": null,
   "metadata": {},
   "outputs": [],
   "source": []
  }
 ],
 "metadata": {
  "kernelspec": {
   "display_name": "JavaScript (Node.js)",
   "language": "javascript",
   "name": "javascript"
  },
  "language_info": {
   "file_extension": ".js",
   "mimetype": "application/javascript",
   "name": "javascript",
   "version": "16.16.0"
  }
 },
 "nbformat": 4,
 "nbformat_minor": 2
}
