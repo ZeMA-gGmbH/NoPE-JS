{
 "cells": [
  {
   "cell_type": "markdown",
   "id": "2eab9f50",
   "metadata": {},
   "source": [
    "\n",
    "# Plugins\n",
    "\n",
    "The library allows the user to customize behavior or extend it using plugins.\n",
    "\n",
    "## Description\n",
    "\n",
    "> A plug-in is a software component that optionally connects to another software and adds necessary, additional functionality to it that was not originally supported in the main application.\n",
    "\n",
    "### Provided Plugins\n",
    "\n",
    "The library contains plugins to enhance the features of `NoPE`. They are located under: `lib\\plugins`\n",
    "\n",
    "Currently 2 plugins are implemented:\n",
    "\n",
    "1. **ackMessages**: The plugin advances the Behavior of sending messages. Emitting messages using the bridge is complete, after all runtimes have ackknoweledged the message. Therefore all messages contain `messageId` (which is dynamically added.) The bridge additonally listens on the events `ackMessage` which contains a acknowledgement for every message. To fullfill this behavior, a default timeout is provided.\n",
    "\n",
    "2. **rpcCallbacks**: The plugin allows the rpc-manager to receive callbacks as function argument. This allows the usage of dynamic callbacks in runtime. To enable such a behavior, the **RPC-Manager** creates for every callback a dynamic service and registers it as service. The RPC-Manager receving the request, converts the provided info of the dynamic callback in an actual callable callback (which executes the service again). As consequence, every callback **must** be implemented async. The Plugin althoug ensures **cancelation** and error **propagation**\n",
    "\n",
    "## Loading Plugins\n",
    "\n",
    "To load pluings `NoPE` provides the following function:"
   ]
  },
  {
   "cell_type": "code",
   "execution_count": 1,
   "id": "e91a1f4a",
   "metadata": {},
   "outputs": [
    {
     "name": "stderr",
     "output_type": "stream",
     "text": [
      "\u001b[34m 2023-04-21T11:37:47.121Z \u001b[0m - \u001b[33m WARN  \u001b[0m - \u001b[47m\u001b[30m plugin-system \u001b[0m \u001b[33m : Plugins used!\n",
      "\n",
      "--------------------------------------------------\n",
      "PLUGIN INSTALLTION REPORT:\n",
      "--------------------------------------------------\n",
      "\n",
      "Installed the following plugins:\n",
      "\t- ackMessages\n",
      "\n",
      "The following source have been modified:\n",
      "\t- communication.Bridge\n",
      "\t- dispatcher.connectivityManager.NopeConnectivityManager\n",
      "\n",
      "Watchout this may change the default behavior!\n",
      "\n",
      " \u001b[0m\n"
     ]
    }
   ],
   "source": [
    "let nope = null;\n",
    "\n",
    "\n",
    "// make shure, all old version of the library are removed:\n",
    "delete require.cache[require.resolve(\"../dist-nodejs/index.nodejs\")];\n",
    "nope = require(\"../dist-nodejs/index.nodejs\");\n",
    "\n",
    "// Now we load a plugin by its name:\n",
    "nope.plugins.installPlugins(nope, \"ackMessages\");"
   ]
  },
  {
   "cell_type": "markdown",
   "id": "da3c7874",
   "metadata": {},
   "source": [
    "The function is capable to load more then 1 plugin:"
   ]
  },
  {
   "cell_type": "code",
   "execution_count": 2,
   "id": "58f62641",
   "metadata": {},
   "outputs": [
    {
     "name": "stderr",
     "output_type": "stream",
     "text": [
      "\u001b[34m 2023-04-21T11:37:47.391Z \u001b[0m - \u001b[33m WARN  \u001b[0m - \u001b[47m\u001b[30m plugin-system \u001b[0m \u001b[33m : Plugins used!\n",
      "\n",
      "--------------------------------------------------\n",
      "PLUGIN INSTALLTION REPORT:\n",
      "--------------------------------------------------\n",
      "\n",
      "Installed the following plugins:\n",
      "\t- ackMessages\n",
      "\t- rpcCallbacks\n",
      "\n",
      "The following source have been modified:\n",
      "\t- communication.Bridge\n",
      "\t- dispatcher.connectivityManager.NopeConnectivityManager\n",
      "\t- dispatcher.rpcManager.NopeRpcManager\n",
      "\n",
      "Watchout this may change the default behavior!\n",
      "\n",
      " \u001b[0m\n"
     ]
    }
   ],
   "source": [
    "// make shure, all old version of the library are removed:\n",
    "delete require.cache[require.resolve(\"../dist-nodejs/index.nodejs\")];\n",
    "nope = require(\"../dist-nodejs/index.nodejs\");\n",
    "\n",
    "// Now we load a plugin by its name:\n",
    "nope.plugins.installPlugins(nope, [\"ackMessages\", \"rpcCallbacks\"]);"
   ]
  },
  {
   "cell_type": "markdown",
   "id": "e3e0e746",
   "metadata": {},
   "source": [
    "The function is although capable to load files instead of plugins provided in the library. \n",
    "\n",
    "## Creating Plugins\n",
    "\n",
    "To show that behavior, let's create our first Plugin. This plugin should enhance the RPC-Manager by adding a `helloWorld` method.\n",
    "\n",
    "We create a Plugin using the function `plugin`. This function defines the necessary elements to enhance the `NoPE` Library:"
   ]
  },
  {
   "cell_type": "code",
   "execution_count": 3,
   "id": "4dc5d73b",
   "metadata": {},
   "outputs": [],
   "source": [
    "const plugin = nope.plugins.plugin"
   ]
  },
  {
   "cell_type": "code",
   "execution_count": 4,
   "id": "92b7d64b",
   "metadata": {},
   "outputs": [],
   "source": [
    "const helloWorldPlugin = plugin(\n",
    "    [\n",
    "        // In here we define the Class / Function we want to enhace.\n",
    "        // in our case the NopeRpcManager would be accessed by:\n",
    "        // nope.dispatcher.rpcManager.NopeRpcManager\n",
    "        // as a result we can extract the NopeRpcManager using the following\n",
    "        // path: \"dispatcher.rpcManager.NopeRpcManager\"\n",
    "        // Providing this path the plugin method knows which element \n",
    "        // should be manipulated.\n",
    "        \"dispatcher.rpcManager.NopeRpcManager\"\n",
    "    ],\n",
    "    \n",
    "    // Now we have to define a callback, which will perform the modifications:\n",
    "    (\n",
    "        originalNopeRpcManagerClass // This is the element we requested:\n",
    "    ) => {\n",
    "        \n",
    "        // Now we define our enhanced class:        \n",
    "        class NopeRpcManager extends originalNopeRpcManagerClass {\n",
    "            /** This is our extension **/\n",
    "            hello(name) {\n",
    "                return `Hello ${name}!`;\n",
    "            }\n",
    "        }\n",
    "        \n",
    "        // Now we have to return that class:\n",
    "        \n",
    "        return [\n",
    "            // We allways have to return an array\n",
    "            // Make shure the order is the same as\n",
    "            // the modificated elements.            \n",
    "            {\n",
    "                // The adapted element contains our replacement\n",
    "                adapted: NopeRpcManager,\n",
    "                // Provide the name\n",
    "                name: \"NopeRpcManager\",\n",
    "                // The path under which the replacement must be performed.\n",
    "                path: \"dispatcher.rpcManager.NopeRpcManager\"\n",
    "            }\n",
    "        ]        \n",
    "        \n",
    "    }\n",
    ")"
   ]
  },
  {
   "cell_type": "markdown",
   "id": "e7251238",
   "metadata": {},
   "source": [
    "Now we are able to load this plugin next to builtins:"
   ]
  },
  {
   "cell_type": "code",
   "execution_count": 5,
   "id": "9cb5ac09",
   "metadata": {},
   "outputs": [
    {
     "name": "stderr",
     "output_type": "stream",
     "text": [
      "\u001b[34m 2023-04-21T11:37:49.342Z \u001b[0m - \u001b[33m WARN  \u001b[0m - \u001b[47m\u001b[30m plugin-system \u001b[0m \u001b[33m : Plugins used!\n",
      "\n",
      "--------------------------------------------------\n",
      "PLUGIN INSTALLTION REPORT:\n",
      "--------------------------------------------------\n",
      "\n",
      "Installed the following plugins:\n",
      "\t- anonymousPlugin1\n",
      "\n",
      "The following source have been modified:\n",
      "\t- dispatcher.rpcManager.NopeRpcManager\n",
      "\n",
      "Watchout this may change the default behavior!\n",
      "\n",
      " \u001b[0m\n"
     ]
    }
   ],
   "source": [
    "// make shure, all old version of the library are removed:\n",
    "delete require.cache[require.resolve(\"../dist-nodejs/index.nodejs\")];\n",
    "nope = require(\"../dist-nodejs/index.nodejs\");\n",
    "\n",
    "// Now we load a plugin by its name:\n",
    "nope.plugins.installPlugins(nope, [helloWorldPlugin]);"
   ]
  },
  {
   "cell_type": "markdown",
   "id": "b92fc447",
   "metadata": {},
   "source": [
    "after we have successfully loaded our plugin right now, we want to test our new code:"
   ]
  },
  {
   "cell_type": "code",
   "execution_count": 6,
   "id": "d0f87d85",
   "metadata": {},
   "outputs": [
    {
     "data": {
      "text/plain": [
       "'Hello Example!'"
      ]
     },
     "execution_count": 6,
     "metadata": {},
     "output_type": "execute_result"
    }
   ],
   "source": [
    "// Create a communicator:\n",
    "// We will use the event layer (which just runs internally)\n",
    "const communicator = nope.getLayer(\"event\");\n",
    "\n",
    "// Lets create our dispatcher\n",
    "\n",
    "// 1. Dispatcher simulates our local system\n",
    "const dispatcher = nope.dispatcher.getDispatcher({\n",
    "  communicator,\n",
    "  id: \"local\"\n",
    "}, {\n",
    "  singleton: false,\n",
    "  useBaseServices: false\n",
    "});\n",
    "\n",
    "// Test our function\n",
    "\n",
    "dispatcher.rpcManager.hello(\"Example\")"
   ]
  },
  {
   "cell_type": "markdown",
   "id": "c3ad39ea",
   "metadata": {},
   "source": [
    "As we can see our enhanced **RPC-Manager** now supports the `hello` method.\n",
    "\n",
    ":::danger Take care\n",
    "\n",
    "Since Plugins arent loaded automatically, make shure that every `NoPE` Runtime loads the desired plugins. This is although required for different *Runtime-Environments* (like python)!\n",
    "\n",
    "Otherwise you risk an inconsistent behavior!\n",
    "\n",
    ":::"
   ]
  },
  {
   "cell_type": "code",
   "execution_count": null,
   "id": "c31f35aa",
   "metadata": {},
   "outputs": [],
   "source": []
  }
 ],
 "metadata": {
  "kernelspec": {
   "display_name": "JavaScript (Node.js)",
   "language": "javascript",
   "name": "javascript"
  },
  "language_info": {
   "file_extension": ".js",
   "mimetype": "application/javascript",
   "name": "javascript",
   "version": "16.16.0"
  }
 },
 "nbformat": 4,
 "nbformat_minor": 5
}
